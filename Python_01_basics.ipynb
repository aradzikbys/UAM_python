{
 "cells": [
  {
   "cell_type": "markdown",
   "id": "d2e3e980",
   "metadata": {},
   "source": [
    "### <b>1.0 BASICS</b>\n",
    "(print function, variables, variable types, strings, operations, booleans)"
   ]
  },
  {
   "cell_type": "markdown",
   "id": "5c7d3052",
   "metadata": {},
   "source": [
    "1.1 Create `pi` variable with value of 3.14. Create `r` variable with value of 12. Calculate the area of the circle and assign the result to new variable, `area`. "
   ]
  },
  {
   "cell_type": "code",
   "execution_count": null,
   "id": "ce44d896",
   "metadata": {
    "pycharm": {
     "is_executing": true
    }
   },
   "outputs": [],
   "source": [
    "pi = 3.14\n",
    "r = 12\n",
    "area = 3.14 * r ** 2\n",
    "print(area)"
   ]
  },
  {
   "cell_type": "markdown",
   "id": "53b30902",
   "metadata": {},
   "source": [
    "1.2 Change the type of variables `a`, `b` and `c` to numeric types (int or float) and calculate their sum.\n",
    "Save the result to the variable `result` and display it on the screen."
   ]
  },
  {
   "cell_type": "code",
   "execution_count": 2,
   "id": "b461dc30",
   "metadata": {},
   "outputs": [],
   "source": [
    "a = \"12\"\n",
    "b = \"35.5\"\n",
    "c = True"
   ]
  },
  {
   "cell_type": "code",
   "execution_count": 3,
   "id": "3c5ef41d",
   "metadata": {
    "scrolled": true
   },
   "outputs": [
    {
     "name": "stdout",
     "output_type": "stream",
     "text": [
      "48.5\n"
     ]
    }
   ],
   "source": [
    "result = int(a) + float(b) + int(c)\n",
    "print(result)"
   ]
  },
  {
   "cell_type": "markdown",
   "id": "2d79b2bd",
   "metadata": {},
   "source": [
    "1.3 Create 2 variables: `firstname` and `surname`, which will contain your first and last name."
   ]
  },
  {
   "cell_type": "code",
   "execution_count": 4,
   "id": "533cb473",
   "metadata": {},
   "outputs": [],
   "source": [
    "firstname = 'Agata'\n",
    "lastname = 'Radzikowska'"
   ]
  },
  {
   "cell_type": "code",
   "execution_count": 41,
   "id": "7d92a3f0",
   "metadata": {},
   "outputs": [
    {
     "name": "stdout",
     "output_type": "stream",
     "text": [
      "Agata Radzikowska\n",
      "My name is Agata Radzikowska.\n",
      "16\n"
     ]
    }
   ],
   "source": [
    "#A Concatenate these variables so that they are separated by a space and save the result to the fullname variable.\n",
    "fullname = firstname + ' ' + lastname\n",
    "print(fullname)\n",
    "\n",
    "#B Use the f-string to display the contents of the fullname variables, so that the contents of the variable\n",
    "# are preceded by the words \"My name is \".\n",
    "print(f'My name is {firstname} {lastname}.')\n",
    "\n",
    "#C Display the total length of the firstname and surname variables.\n",
    "print(len(firstname)+len(lastname))"
   ]
  },
  {
   "cell_type": "markdown",
   "id": "473f203b",
   "metadata": {},
   "source": [
    "### <b>2.0 LISTS </b>"
   ]
  },
  {
   "cell_type": "markdown",
   "id": "39550c09",
   "metadata": {},
   "source": [
    "2.1 Below is a list `websites`."
   ]
  },
  {
   "cell_type": "code",
   "execution_count": 6,
   "id": "e3b3432b",
   "metadata": {},
   "outputs": [],
   "source": [
    "websites = ['google.com', 'facebook.com', 'twitter.com', 'pinterest.com', 'python.org']\n",
    "polish_websites = ['onet.pl', 'interia.pl', 'wp.pl']"
   ]
  },
  {
   "cell_type": "code",
   "execution_count": 7,
   "id": "2bc86ed5",
   "metadata": {
    "scrolled": true
   },
   "outputs": [
    {
     "data": {
      "text/plain": [
       "3"
      ]
     },
     "execution_count": 7,
     "metadata": {},
     "output_type": "execute_result"
    }
   ],
   "source": [
    "#A What index is 'pinterest.com' under?\n",
    "websites.index('pinterest.com')"
   ]
  },
  {
   "cell_type": "code",
   "execution_count": 8,
   "id": "24099fdb",
   "metadata": {},
   "outputs": [
    {
     "name": "stdout",
     "output_type": "stream",
     "text": [
      "['google.com', 'facebook.com', 'twitter.com', 'pinterest.com', 'yahoo.com']\n"
     ]
    }
   ],
   "source": [
    "#B Replace the value of the fifth item with 'yahoo.com'.\n",
    "websites[4] = 'yahoo.com'\n",
    "print(websites)"
   ]
  },
  {
   "cell_type": "code",
   "execution_count": 9,
   "id": "91e11ffd",
   "metadata": {},
   "outputs": [
    {
     "name": "stdout",
     "output_type": "stream",
     "text": [
      "['google.com', 'facebook.com', 'twitter.com', 'pinterest.com', 'yahoo.com', 'bing.com']\n"
     ]
    }
   ],
   "source": [
    "#C Add a new item to the end of the list: 'bing.com'\n",
    "websites.append('bing.com')\n",
    "print(websites)"
   ]
  },
  {
   "cell_type": "code",
   "execution_count": 10,
   "id": "c1ee9a63",
   "metadata": {},
   "outputs": [
    {
     "name": "stdout",
     "output_type": "stream",
     "text": [
      "['facebook.com', 'twitter.com']\n"
     ]
    }
   ],
   "source": [
    "#D Using indexing, create a sublist consisting of 'facebook.com', 'twitter.com'.\n",
    "# Assign the result to the variable `social_networks`.\n",
    "social_networks = websites[1:3]\n",
    "print(social_networks)"
   ]
  },
  {
   "cell_type": "code",
   "execution_count": 42,
   "id": "d3e904e4",
   "metadata": {},
   "outputs": [
    {
     "data": {
      "text/plain": [
       "12"
      ]
     },
     "execution_count": 42,
     "metadata": {},
     "output_type": "execute_result"
    }
   ],
   "source": [
    "#E Extend the `websites` list with elements from the `polish_websites` list. How many items are in the `websites` list now?\n",
    "websites.extend(polish_websites)\n",
    "len(websites)"
   ]
  },
  {
   "cell_type": "markdown",
   "id": "3981cdbd",
   "metadata": {},
   "source": [
    "2.2 Using the `numbers` list:"
   ]
  },
  {
   "cell_type": "code",
   "execution_count": 39,
   "id": "36d9633c",
   "metadata": {},
   "outputs": [],
   "source": [
    "numbers = [1, 8, 6, 6, 6, 7, 2, 0, 3, 0, 2, 3, 7, 0, 7, 2, 0, 3, 9, 4]"
   ]
  },
  {
   "cell_type": "code",
   "execution_count": 40,
   "id": "92d64400",
   "metadata": {},
   "outputs": [
    {
     "data": {
      "text/plain": [
       "9"
      ]
     },
     "execution_count": 40,
     "metadata": {},
     "output_type": "execute_result"
    }
   ],
   "source": [
    "#A Display the second item on the screen.\n",
    "numbers[1]"
   ]
  },
  {
   "cell_type": "code",
   "execution_count": 43,
   "id": "46ab74a8",
   "metadata": {},
   "outputs": [
    {
     "data": {
      "text/plain": [
       "3"
      ]
     },
     "execution_count": 43,
     "metadata": {},
     "output_type": "execute_result"
    }
   ],
   "source": [
    "#B Count how many elements of the list have the value 7 (use the `count` method).\n",
    "numbers.count(7)"
   ]
  },
  {
   "cell_type": "code",
   "execution_count": 44,
   "id": "08718d6f",
   "metadata": {},
   "outputs": [
    {
     "data": {
      "text/plain": [
       "20"
      ]
     },
     "execution_count": 44,
     "metadata": {},
     "output_type": "execute_result"
    }
   ],
   "source": [
    "#C How many items does the list contain?\n",
    "len(numbers)"
   ]
  },
  {
   "cell_type": "code",
   "execution_count": 46,
   "id": "bb8e86b7",
   "metadata": {},
   "outputs": [
    {
     "data": {
      "text/plain": [
       "9"
      ]
     },
     "execution_count": 46,
     "metadata": {},
     "output_type": "execute_result"
    }
   ],
   "source": [
    "#D How do you check what is the largest value contained in the list?\n",
    "max(numbers)"
   ]
  },
  {
   "cell_type": "markdown",
   "id": "1fe64992",
   "metadata": {},
   "source": [
    "2.3 The iris_setosa list contains information about 4 specimens of the bristle iris:\n",
    "<br> The first index is the length of the flower.\n",
    "<br> The second index is the width of the flower.\n",
    "<br> The third index is the length of the leaf.\n",
    "<br> The fourth index is the width of the leaf."
   ]
  },
  {
   "cell_type": "code",
   "execution_count": 48,
   "id": "72f6f2c5",
   "metadata": {},
   "outputs": [],
   "source": [
    "iris_setosa  = [\n",
    "    [5.1, 3.5, 1.4, 0.2],\n",
    "    [4.9, 3, 1.4, 0.2],\n",
    "    [4.7, 3.2, 1.3, 0.2],\n",
    "    ]"
   ]
  },
  {
   "cell_type": "code",
   "execution_count": 50,
   "id": "92740598",
   "metadata": {},
   "outputs": [
    {
     "name": "stdout",
     "output_type": "stream",
     "text": [
      "15.86\n"
     ]
    }
   ],
   "source": [
    "#A Calculate the average flower width.\n",
    "av_flower_wdth = (iris_setosa[0][0] * iris_setosa[0][1] +\n",
    "                 iris_setosa[1][0] * iris_setosa[1][1] +\n",
    "                 iris_setosa[2][0] * iris_setosa[2][1]) / 3\n",
    "\n",
    "print(round(av_flower_wdth,2))"
   ]
  },
  {
   "cell_type": "code",
   "execution_count": 51,
   "id": "ee45d1cd",
   "metadata": {},
   "outputs": [
    {
     "name": "stdout",
     "output_type": "stream",
     "text": [
      "[[5.1, 3.5, 1.4, 0.2], [4.9, 3, 1.4, 0.2], [4.7, 3.2, 1.3, 0.2], [5.4, 3.9, 1.7, 0.4]]\n"
     ]
    }
   ],
   "source": [
    "#B Add data about a new copy to the list: (5.4, 3.9, 1.7, 0.4)\n",
    "iris_setosa.append([5.4, 3.9, 1.7, 0.4])\n",
    "print(iris_setosa)"
   ]
  },
  {
   "cell_type": "markdown",
   "id": "984cd899",
   "metadata": {},
   "source": [
    "2.4 List `l` containts 2 elements (lists). Create new list (`l_flat`) which contains each element from those two lists."
   ]
  },
  {
   "cell_type": "code",
   "execution_count": 12,
   "id": "ac276b39",
   "metadata": {},
   "outputs": [],
   "source": [
    "l = [[9, 8, 12, 7], [12, 33, 8, 7]]"
   ]
  },
  {
   "cell_type": "code",
   "execution_count": 13,
   "id": "d3340464",
   "metadata": {},
   "outputs": [
    {
     "name": "stdout",
     "output_type": "stream",
     "text": [
      "[9, 8, 12, 7, 12, 33, 8, 7]\n"
     ]
    }
   ],
   "source": [
    "l_flat1 = l[0]+l[1]\n",
    "print(l_flat1)"
   ]
  },
  {
   "cell_type": "markdown",
   "id": "9ea26e75",
   "metadata": {},
   "source": [
    "### <b>3.0 DICTIONARIES </b>"
   ]
  },
  {
   "cell_type": "markdown",
   "id": "281eb9c9",
   "metadata": {},
   "source": [
    "3.1 Using the following dictionaries, which contains information from WikiData about Adam Mickiewicz, complete the following tasks:"
   ]
  },
  {
   "cell_type": "code",
   "execution_count": 23,
   "id": "1808f359",
   "metadata": {},
   "outputs": [],
   "source": [
    "data = {\n",
    "    'name': 'Adam',\n",
    "    'surname': 'Mickiewicz',\n",
    "    'native language': 'polish',\n",
    "    'year of birth': 1798,\n",
    "    'place of birth': 'Zavosse',\n",
    "    'year of death': 1855,\n",
    "    'occupation': ['poet', 'professor', 'playwright']}\n",
    "\n",
    "cecylia_data = {\n",
    "    'name': 'Cecylia',\n",
    "    'surname': 'Szymanowska' }"
   ]
  },
  {
   "cell_type": "code",
   "execution_count": 53,
   "id": "dfdfbc8e",
   "metadata": {},
   "outputs": [
    {
     "name": "stdout",
     "output_type": "stream",
     "text": [
      "Zaosie\n"
     ]
    }
   ],
   "source": [
    "#A Display A. Mickiewicz's place of birth.\n",
    "print(data['place of birth'])"
   ]
  },
  {
   "cell_type": "code",
   "execution_count": 54,
   "id": "aa5548f4",
   "metadata": {},
   "outputs": [
    {
     "name": "stdout",
     "output_type": "stream",
     "text": [
      "57\n"
     ]
    }
   ],
   "source": [
    "#B Calculate how many years A. Mickiewicz lived.\n",
    "print(data['year of death']-data['year of birth'])"
   ]
  },
  {
   "cell_type": "code",
   "execution_count": 26,
   "id": "9c3e6b37",
   "metadata": {},
   "outputs": [
    {
     "name": "stdout",
     "output_type": "stream",
     "text": [
      "Istanbul\n"
     ]
    }
   ],
   "source": [
    "#C Add a new `place of death` key with value `Istanbul`.\n",
    "data['place of death']='Istanbul'\n",
    "print(data['place of death'])"
   ]
  },
  {
   "cell_type": "code",
   "execution_count": 55,
   "id": "5f2fa6a3",
   "metadata": {},
   "outputs": [
    {
     "name": "stdout",
     "output_type": "stream",
     "text": [
      "Zaosie\n"
     ]
    }
   ],
   "source": [
    "#D Replace the value of the `place of birth` key with `Zaosie`.\n",
    "data['place of birth'] = 'Zaosie'\n",
    "print(data['place of birth'])"
   ]
  },
  {
   "cell_type": "code",
   "execution_count": 56,
   "id": "c51dea32",
   "metadata": {},
   "outputs": [
    {
     "name": "stdout",
     "output_type": "stream",
     "text": [
      "{'name': 'Cecylia', 'surname': 'Szymanowska'}\n"
     ]
    }
   ],
   "source": [
    "#E Add a new key `spouse` whose value is the dictionary `cecylia_data`.\n",
    "data['spouse']=cecylia_data\n",
    "print(data['spouse'])"
   ]
  },
  {
   "cell_type": "code",
   "execution_count": 57,
   "id": "1988c6ec",
   "metadata": {},
   "outputs": [
    {
     "name": "stdout",
     "output_type": "stream",
     "text": [
      "3\n"
     ]
    }
   ],
   "source": [
    "#F  Display the number of list items that are under the `occupation` key.\n",
    "print(len(data['occupation']))"
   ]
  },
  {
   "cell_type": "code",
   "execution_count": 58,
   "id": "a07ad1f8",
   "metadata": {},
   "outputs": [
    {
     "name": "stdout",
     "output_type": "stream",
     "text": [
      "Cecylia\n"
     ]
    }
   ],
   "source": [
    "#G Display the name of A. Mickiewicz's wife.\n",
    "print(data['spouse']['name'])"
   ]
  },
  {
   "cell_type": "markdown",
   "id": "7faf4d3d",
   "metadata": {},
   "source": [
    "3.2 Create dictionary `warehouse` based on list `fruits`. Append elements of a list to dictionary as keys, assign default value 5 to each key."
   ]
  },
  {
   "cell_type": "code",
   "execution_count": 31,
   "id": "2626b9c7",
   "metadata": {},
   "outputs": [],
   "source": [
    "fruits = ['apple','banana','strawberry','pineapple','orange']\n",
    "warehouse = {}"
   ]
  },
  {
   "cell_type": "code",
   "execution_count": 32,
   "id": "a27e362b",
   "metadata": {},
   "outputs": [],
   "source": [
    "warehouse = {x:5 for x in fruits}"
   ]
  },
  {
   "cell_type": "code",
   "execution_count": 33,
   "id": "afae62c8",
   "metadata": {},
   "outputs": [
    {
     "data": {
      "text/plain": [
       "{'apple': 5, 'banana': 5, 'strawberry': 5, 'pineapple': 5, 'orange': 5}"
      ]
     },
     "execution_count": 33,
     "metadata": {},
     "output_type": "execute_result"
    }
   ],
   "source": [
    "warehouse"
   ]
  },
  {
   "cell_type": "markdown",
   "id": "1cf64354",
   "metadata": {},
   "source": [
    "### <b>4.0 IF, ELIF, ELSE</b>"
   ]
  },
  {
   "cell_type": "markdown",
   "id": "d0b661af",
   "metadata": {},
   "source": [
    "4.1 Check if the text 'aAaAaA' is in the passwords array. Depending on whether it is present or not, display the appropriate message on the screen."
   ]
  },
  {
   "cell_type": "code",
   "execution_count": 36,
   "id": "7348b3a5",
   "metadata": {},
   "outputs": [],
   "source": [
    "haslo = 'aAaAaA'\n",
    "passwords = ['aaAaa', 'aAAAaa', 'aaaaaaA', 'aaaAAAAA', 'aaAAAaa', 'aAaAaA', 'aAaAaAA']"
   ]
  },
  {
   "cell_type": "code",
   "execution_count": 35,
   "id": "4a7c0e41",
   "metadata": {},
   "outputs": [
    {
     "name": "stdout",
     "output_type": "stream",
     "text": [
      "Password aAaAaA is on the list, position #6.\n"
     ]
    }
   ],
   "source": [
    "if haslo in passwords:\n",
    "    print(f'Password {haslo} is on the list, position #{passwords.index(haslo)+1}.')\n",
    "else:\n",
    "    print(f'Password {haslo} is NOT the list.') "
   ]
  },
  {
   "cell_type": "markdown",
   "id": "e77be3b0",
   "metadata": {},
   "source": [
    "4.2 Let `x` be the number of points obtained. The standard grading scale is as follows:\n",
    "<br> x >= 90 -- 5.0\n",
    "<br> 90 > x >= 80 -- 4.5\n",
    "<br> 80 > x >= 70 -- 4.0\n",
    "<br> 70 > x >= 60 -- 3.5\n",
    "<br> 60 > x >= 50 -- 3.0\n",
    "<br> x < 50 -- 2.0\n",
    "<br> The `points` variable contains the number of points obtained by the student. Write a conditional statement that displays the student's grade based on the number of points."
   ]
  },
  {
   "cell_type": "code",
   "execution_count": 61,
   "id": "cc814044",
   "metadata": {},
   "outputs": [],
   "source": [
    "points = 85"
   ]
  },
  {
   "cell_type": "code",
   "execution_count": 62,
   "id": "9b9f8b34",
   "metadata": {},
   "outputs": [
    {
     "name": "stdout",
     "output_type": "stream",
     "text": [
      "You got 4.5\n"
     ]
    }
   ],
   "source": [
    "if points in range(0, 50):\n",
    "    print('You didn\\'t pass the exam.')\n",
    "if points in range(50, 60):\n",
    "    print('You got 3.0')\n",
    "if points in range(60, 70):\n",
    "    print('You got 3.5')\n",
    "if points in range(70, 80):\n",
    "    print('You got 4.0')\n",
    "if points in range(80, 90):\n",
    "    print('You got 4.5')\n",
    "if points in range(90, 100):\n",
    "    print('You got 5.0')"
   ]
  },
  {
   "cell_type": "markdown",
   "id": "f012f494",
   "metadata": {},
   "source": [
    "### <b>5.0 FOR </b>"
   ]
  },
  {
   "cell_type": "markdown",
   "id": "cbddabae",
   "metadata": {},
   "source": [
    "2.3 <b>[USING FOR]</b> The iris_setosa list contains information about 4 specimens of the bristle iris (...)"
   ]
  },
  {
   "cell_type": "code",
   "execution_count": 63,
   "id": "4dc6cdb7",
   "metadata": {},
   "outputs": [],
   "source": [
    "iris_setosa  = [\n",
    "    [5.1, 3.5, 1.4, 0.2],\n",
    "    [4.9, 3, 1.4, 0.2],\n",
    "    [4.7, 3.2, 1.3, 0.2],\n",
    "    ]"
   ]
  },
  {
   "cell_type": "code",
   "execution_count": 65,
   "id": "011e6958",
   "metadata": {},
   "outputs": [
    {
     "name": "stdout",
     "output_type": "stream",
     "text": [
      "Average flower width: 15.86.\n"
     ]
    }
   ],
   "source": [
    "wdth = 0\n",
    "\n",
    "for n, flower in enumerate(iris_setosa):\n",
    "    wdth += (flower[0] * flower[1])\n",
    "avg_flow_wdth2 = wdth / (n+1)\n",
    "print(f'Average flower width: {round(avg_flow_wdth2,2)}.')"
   ]
  },
  {
   "cell_type": "markdown",
   "id": "69f022f1",
   "metadata": {},
   "source": [
    "2.4 <b>[USING FOR]</b> List `l` containts 2 elements (lists). Create new list (`l_flat`) which contains each element from those two lists."
   ]
  },
  {
   "cell_type": "code",
   "execution_count": null,
   "id": "a8810fe4",
   "metadata": {
    "scrolled": true
   },
   "outputs": [],
   "source": [
    "l = [[9, 8, 12, 7], [12, 33, 8, 7]]"
   ]
  },
  {
   "cell_type": "code",
   "execution_count": null,
   "id": "898fc64c",
   "metadata": {},
   "outputs": [],
   "source": [
    "l_flat2 = [x for y in l for x in y]\n",
    "print(l_flat2)"
   ]
  },
  {
   "cell_type": "markdown",
   "id": "4f2fd19a",
   "metadata": {},
   "source": [
    "4.2 <b>[USING FOR] </b> Let `x` be the number of points obtained. The standard grading scale is as follows (...)"
   ]
  },
  {
   "cell_type": "code",
   "execution_count": 11,
   "id": "eb69026c",
   "metadata": {},
   "outputs": [],
   "source": [
    "#C reate grades dictionary:\n",
    "points = 85\n",
    "\n",
    "grades = {\n",
    "        range(0, 50) : '2.0',\n",
    "        range(50, 60) : '3.0',\n",
    "        range(60, 70) : '3.5',\n",
    "        range(70, 80) : '4.0',\n",
    "        range(80, 90) : '4.5',\n",
    "        range(90, 100) : '5.0'\n",
    "          }"
   ]
  },
  {
   "cell_type": "code",
   "execution_count": 12,
   "id": "e6da3da7",
   "metadata": {},
   "outputs": [
    {
     "name": "stdout",
     "output_type": "stream",
     "text": [
      "You got 4.5.\n"
     ]
    }
   ],
   "source": [
    "for key in grades:\n",
    "    if points in key:\n",
    "        print(f'You got {grades[key]}.')"
   ]
  },
  {
   "cell_type": "code",
   "execution_count": 21,
   "id": "144643c9",
   "metadata": {},
   "outputs": [
    {
     "name": "stdout",
     "output_type": "stream",
     "text": [
      "4.5\n"
     ]
    }
   ],
   "source": [
    "for key in grades:\n",
    "    if points in key:\n",
    "        print(grades[key])"
   ]
  },
  {
   "cell_type": "markdown",
   "id": "f13e563f",
   "metadata": {},
   "source": [
    "5.1 Display sum of numbers from 1 to 678."
   ]
  },
  {
   "cell_type": "code",
   "execution_count": 1,
   "id": "acc86c3b",
   "metadata": {
    "pycharm": {
     "is_executing": true
    }
   },
   "outputs": [
    {
     "name": "stdout",
     "output_type": "stream",
     "text": [
      "32896\n"
     ]
    }
   ],
   "source": [
    "x_sum = 0\n",
    "\n",
    "for x in range(1,257):\n",
    "    x_sum += x\n",
    "\n",
    "print(x_sum)"
   ]
  },
  {
   "cell_type": "code",
   "execution_count": 2,
   "id": "f89badb8",
   "metadata": {
    "pycharm": {
     "is_executing": true
    }
   },
   "outputs": [
    {
     "name": "stdout",
     "output_type": "stream",
     "text": [
      "32896\n"
     ]
    }
   ],
   "source": [
    "# Shorter version:\n",
    "x_sum1 = sum([x for x in range(1,257)])\n",
    "print(x_sum1)"
   ]
  },
  {
   "cell_type": "code",
   "execution_count": 73,
   "id": "bcb7f0f6",
   "metadata": {},
   "outputs": [
    {
     "name": "stdout",
     "output_type": "stream",
     "text": [
      "16256\n",
      "16256\n"
     ]
    }
   ],
   "source": [
    "#A Display sum of even numbers from 1 to 256.\n",
    "x_sum = 0\n",
    "\n",
    "for x in range(1,256):\n",
    "    if x%2 == 0:\n",
    "        x_sum += x\n",
    "\n",
    "print(x_sum)\n",
    "\n",
    "# Shorter version:\n",
    "x_sum1 = sum([x for x in range(1,256) if x%2 == 0])\n",
    "print(x_sum1)"
   ]
  },
  {
   "cell_type": "markdown",
   "id": "afeee90a",
   "metadata": {},
   "source": [
    "5.2 The `ratings` dictionary contains the ratings of several kids. The keys are the children's names, and the values are their grades. Complete the dictionary `distribution` with scores as keys and lists as values."
   ]
  },
  {
   "cell_type": "code",
   "execution_count": 9,
   "id": "89ab9ef7",
   "metadata": {},
   "outputs": [],
   "source": [
    "grades = {\n",
    "    'Albert': 4.5,\n",
    "    'Beata': 5,\n",
    "    'Cecylia': 4,\n",
    "    'Dariusz': 4,\n",
    "    'Eliza': 3,\n",
    "    'Feliks': 5,\n",
    "    'Grzegorz': 4.5,\n",
    "    'Izabela': 4.5\n",
    "    }\n",
    "\n",
    "distribution = {\n",
    "    5: [],\n",
    "    4.5: [],\n",
    "    4: [],\n",
    "    3: []\n",
    "    }"
   ]
  },
  {
   "cell_type": "code",
   "execution_count": 6,
   "id": "be0afee4",
   "metadata": {},
   "outputs": [
    {
     "name": "stdout",
     "output_type": "stream",
     "text": [
      "{5: ['Beata', 'Feliks'], 4.5: ['Albert', 'Grzegorz', 'Izabela'], 4: ['Cecylia', 'Dariusz'], 3: ['Eliza']}\n"
     ]
    }
   ],
   "source": [
    "for child, grade in grades.items():\n",
    "    distribution[grade].append(child)\n",
    "print(distribution)"
   ]
  },
  {
   "cell_type": "code",
   "execution_count": 10,
   "id": "cf72ac14",
   "metadata": {},
   "outputs": [
    {
     "name": "stdout",
     "output_type": "stream",
     "text": [
      "{5: ['Beata', 'Feliks'], 4.5: ['Albert', 'Grzegorz', 'Izabela'], 4: ['Cecylia', 'Dariusz'], 3: ['Eliza']}\n"
     ]
    }
   ],
   "source": [
    "for child1, grade1 in grades.items():\n",
    "    for grade2, child2 in distribution.items():\n",
    "        if grade1 == grade2:\n",
    "            distribution[grade2].append(child1)\n",
    "print(distribution)"
   ]
  },
  {
   "cell_type": "markdown",
   "id": "caee477f",
   "metadata": {},
   "source": [
    "5.3 Below are 2 dictionaries with data on the number of city bike rides in Montreal in 2018, broken down by month.\n",
    "The first dictionary contains information about trips made by subscription holders and the second by people who don't have a subscription. Data comes from https://montreal.bixi.com/en/open-data."
   ]
  },
  {
   "cell_type": "code",
   "execution_count": 1,
   "id": "252e491a",
   "metadata": {},
   "outputs": [],
   "source": [
    "members = {'April': 211819, 'May': 682758, 'June': 737011, 'July': 779511, 'August': 673790,\n",
    "           'September': 673790, 'October': 444177, 'November': 136791}\n",
    "\n",
    "occasionals = {'April': 32058, 'May': 147898, 'June': 171494, 'July': 194316, 'August': 206809,\n",
    "               'September': 140492, 'October': 53596, 'November': 10516}\n",
    "\n",
    "months = ['January', 'February', 'March', 'April', 'May', 'June', 'July',\n",
    "          'August', 'September', 'October', 'November', 'December']"
   ]
  },
  {
   "cell_type": "code",
   "execution_count": 2,
   "id": "44893845",
   "metadata": {},
   "outputs": [
    {
     "name": "stdout",
     "output_type": "stream",
     "text": [
      "{'April': 243877, 'May': 830656, 'June': 908505, 'July': 973827, 'August': 880599, 'September': 814282, 'October': 497773, 'November': 147307}\n",
      "{'April': 243877, 'May': 830656, 'June': 908505, 'July': 973827, 'August': 880599, 'September': 814282, 'October': 497773, 'November': 147307}\n"
     ]
    }
   ],
   "source": [
    "#A Create a third dictionary `all_rides` where you count the total number of rides in each month.\n",
    "\n",
    "all_rides = {}\n",
    "\n",
    "# That one will work only if there are EXACTLY the same keys in `members` and `occasionals`.\n",
    "for month, rides in members.items():\n",
    "    all_rides[month] = rides + occasionals[month]\n",
    "print(all_rides)\n",
    "\n",
    "\n",
    "# That one will work no matter what keys are in both dictionaries (as long as they exist in `months` list): \n",
    "all_rides1 = {}\n",
    "\n",
    "for month in months:\n",
    "   \n",
    "    if month in members.keys() and month in occasionals.keys():\n",
    "        all_rides1[month] = members[month] + occasionals[month]\n",
    "    \n",
    "    if month in members.keys() and month not in occasionals.keys():\n",
    "        all_rides1[month] = members[month]\n",
    "    \n",
    "    if month not in members.keys() and month in occasionals.keys():\n",
    "        all_rides1[month] = occasionals[month]\n",
    "    \n",
    "    else:\n",
    "        pass\n",
    "\n",
    "print(all_rides1)"
   ]
  },
  {
   "cell_type": "code",
   "execution_count": 79,
   "id": "4b8c93bf",
   "metadata": {},
   "outputs": [
    {
     "name": "stdout",
     "output_type": "stream",
     "text": [
      "{'January': 0, 'February': 0, 'March': 0, 'April': 243877, 'May': 830656, 'June': 908505, 'July': 973827, 'August': 880599, 'September': 814282, 'October': 497773, 'November': 147307, 'December': 0}\n",
      "{'January': 0, 'February': 0, 'March': 0, 'April': 243877, 'May': 830656, 'June': 908505, 'July': 973827, 'August': 880599, 'September': 814282, 'October': 497773, 'November': 147307, 'December': 0}\n"
     ]
    }
   ],
   "source": [
    "#B Using the `months` list, display how many trips were made in a given month. Assume there are 0 trips\n",
    "# in months that are missing from `all_rides`.\n",
    "\n",
    "#To display 0 for months with no rides, we need to create empty dictionary (0 rides in EACH month)\n",
    "all_rides_full = {month:0 for month in months}\n",
    "\n",
    "for month, rides in all_rides_full.items():\n",
    "    \n",
    "    if month in members.keys() and month in occasionals.keys():\n",
    "        all_rides_full[month] += (members[month] + occasionals[month])\n",
    "   \n",
    "    if month in members.keys() and month not in occasionals.keys():\n",
    "        all_rides_full[month] += members[month]\n",
    "   \n",
    "    if month not in members.keys() and month in occasionals.keys():\n",
    "        all_rides_full[month] += occasionals[month]\n",
    "    \n",
    "    else:\n",
    "        pass\n",
    "\n",
    "print(all_rides_full)\n",
    "\n",
    "\n",
    "# If we are certain, that there are exactly the same values in 'members' and 'occasionals':\n",
    "all_rides_full = {month:0 for month in months}\n",
    "\n",
    "for month, rides in all_rides_full.items():\n",
    "    \n",
    "    if month in members.keys():\n",
    "        all_rides_full[month] += (members[month] + occasionals[month])\n",
    "\n",
    "    else:\n",
    "        pass\n",
    "\n",
    "print(all_rides_full)"
   ]
  },
  {
   "cell_type": "code",
   "execution_count": 80,
   "id": "86fc734e",
   "metadata": {},
   "outputs": [
    {
     "name": "stdout",
     "output_type": "stream",
     "text": [
      "18.07 %.\n"
     ]
    }
   ],
   "source": [
    "#C Calculate the percentage of occasional trips during the year.\n",
    "sum_rides_members = 0\n",
    "sum_rides_occasionals = 0\n",
    "\n",
    "for month, rides in members.items():\n",
    "    sum_rides_members += rides\n",
    "\n",
    "for month, rides in occasionals.items():\n",
    "    sum_rides_occasionals += rides\n",
    "\n",
    "ratio = sum_rides_occasionals/(sum_rides_members+sum_rides_occasionals)\n",
    "\n",
    "print(f'{round(ratio*100,2)} %.')"
   ]
  },
  {
   "cell_type": "code",
   "execution_count": 81,
   "id": "aa8e3cb2",
   "metadata": {},
   "outputs": [
    {
     "name": "stdout",
     "output_type": "stream",
     "text": [
      "5296826\n"
     ]
    }
   ],
   "source": [
    "#D Calculate the sum of recorded trips from April to November.\n",
    "sum_rides_members = 0\n",
    "sum_rides_occasionals = 0\n",
    "\n",
    "for month, rides in members.items():\n",
    "    if month in ('April', 'May', 'June', 'July', 'August', 'September', 'October', 'November'):\n",
    "        sum_rides_members += rides\n",
    "\n",
    "for month, rides in occasionals.items():\n",
    "    if month in ('April', 'May', 'June', 'July', 'August', 'September', 'October', 'November'):\n",
    "        sum_rides_occasionals += rides\n",
    "\n",
    "print(sum_rides_members+sum_rides_occasionals)"
   ]
  },
  {
   "cell_type": "code",
   "execution_count": 85,
   "id": "e7e68cb1",
   "metadata": {},
   "outputs": [
    {
     "name": "stdout",
     "output_type": "stream",
     "text": [
      "Month with highest number of rides (members): July.\n",
      "Month with highest number of rides (occasionals): August.\n"
     ]
    }
   ],
   "source": [
    "#E Do both groups have the highest number of trips in the same month?\n",
    "max_members = 0\n",
    "max_occasionals = 0\n",
    "\n",
    "for month, rides in members.items():\n",
    "    if rides > max_members:\n",
    "        max_members = rides\n",
    "month_members = list(members.keys())[list(members.values()).index(max_members)]\n",
    "\n",
    "for month, rides in occasionals.items():\n",
    "    if rides > max_occasionals:\n",
    "        max_occasionals = rides\n",
    "month_occasionals = list(occasionals.keys())[list(occasionals.values()).index(max_occasionals)]\n",
    "\n",
    "print(f'Month with highest number of rides (members): {month_members}.')\n",
    "print(f'Month with highest number of rides (occasionals): {month_occasionals}.')"
   ]
  },
  {
   "cell_type": "markdown",
   "id": "07171bcc",
   "metadata": {},
   "source": [
    "5.4 The following dictionary contains data from a few selected countries on the number of trees per square kilometer."
   ]
  },
  {
   "cell_type": "code",
   "execution_count": 90,
   "id": "b2c97a2b",
   "metadata": {},
   "outputs": [],
   "source": [
    "tree_per_sqkm = {\n",
    "    \"Brazil\": 39542,\n",
    "    \"Bulgaria\": 24987,\n",
    "    \"Canada\": 36388,\n",
    "    \"Denmark\": 6129,\n",
    "    \"Finland\": 90652,\n",
    "    \"France\": 24436,\n",
    "    \"Greece\": 24323,\n",
    "    \"India\": 11109,\n",
    "    \"Japan\": 49894,\n",
    "    \"Russia\": 41396,\n",
    "    \"Saudi Arabia\": 1,\n",
    "    \"Syria\": 534,\n",
    "    \"United States\": 23513,\n",
    "    \"Taiwan\": 69593,\n",
    "    \"Turkey\": 11126,\n",
    "    }"
   ]
  },
  {
   "cell_type": "code",
   "execution_count": 93,
   "id": "0b237fba",
   "metadata": {},
   "outputs": [
    {
     "name": "stdout",
     "output_type": "stream",
     "text": [
      "Brazil\n",
      "Bulgaria\n",
      "Canada\n",
      "Finland\n",
      "France\n",
      "Greece\n",
      "Japan\n",
      "Russia\n",
      "United States\n",
      "Taiwan\n"
     ]
    }
   ],
   "source": [
    "#A Write on the screen the names of those countries for which the factor is greater than 20000.\n",
    "\n",
    "for country, factor in tree_per_sqkm.items():\n",
    "    if factor > 20000:\n",
    "        print(country)"
   ]
  },
  {
   "cell_type": "code",
   "execution_count": 94,
   "id": "9468faa3",
   "metadata": {},
   "outputs": [
    {
     "name": "stdout",
     "output_type": "stream",
     "text": [
      "India\n",
      "Turkey\n"
     ]
    }
   ],
   "source": [
    "#B Write on the screen the names of those countries for which the factor is greater than 10,000 but less than 20,000.\n",
    "\n",
    "for country, factor in tree_per_sqkm.items():\n",
    "    if factor in range(10000,20000):\n",
    "        print(country)"
   ]
  },
  {
   "cell_type": "markdown",
   "id": "dff3d9ac",
   "metadata": {},
   "source": [
    "5.5 Create 2 new lists based on `l`: `even` with even numbers from l and `odd` with odd numbers."
   ]
  },
  {
   "cell_type": "code",
   "execution_count": 83,
   "id": "402ac3a6",
   "metadata": {},
   "outputs": [],
   "source": [
    "l = [4, 5, 8, 9, 0, 3]\n",
    "even = []\n",
    "odd = []"
   ]
  },
  {
   "cell_type": "code",
   "execution_count": 84,
   "id": "d0a3bfca",
   "metadata": {
    "scrolled": true
   },
   "outputs": [
    {
     "name": "stdout",
     "output_type": "stream",
     "text": [
      "[4, 8, 0]\n",
      "[5, 9, 3]\n"
     ]
    }
   ],
   "source": [
    "for x in l:\n",
    "    if x%2 == 0:\n",
    "        even.append(x)\n",
    "    else:\n",
    "        odd.append(x)\n",
    "print(even)\n",
    "print(odd)"
   ]
  },
  {
   "cell_type": "markdown",
   "id": "5f546ea7",
   "metadata": {},
   "source": [
    "### <b>6.0 FUNCTIONS</b>"
   ]
  },
  {
   "cell_type": "markdown",
   "id": "83b8e589",
   "metadata": {},
   "source": [
    "6.1 Write the code that will return the so-called \"Big 'NO!'\" (see http://tvtropes.org/pmwiki/pmwiki.php/Main/BigNo) for a given number, i.e. a string like \"NOOOOOOOOOOOOO!\", where the number 'O' is to be equal to the value of the variable `number_of_o`.\n",
    "<br> If the argument is less than 5, \"It's not a Big 'No!'\" is to be returned.\n",
    "<br> Display this caption on the screen."
   ]
  },
  {
   "cell_type": "code",
   "execution_count": 139,
   "id": "2b3a11f2",
   "metadata": {},
   "outputs": [],
   "source": [
    "def big_no(number_of_o):\n",
    "    if type(number_of_o) != int:\n",
    "        print('It\\'s not a number.')\n",
    "    else:\n",
    "        if number_of_o <5:\n",
    "            print('It\\'s not a Big \\'No!\\'.')\n",
    "        else:\n",
    "            print('N'+number_of_o*'O'+'!')"
   ]
  },
  {
   "cell_type": "code",
   "execution_count": 140,
   "id": "fc7f6b1c",
   "metadata": {
    "scrolled": false
   },
   "outputs": [
    {
     "name": "stdout",
     "output_type": "stream",
     "text": [
      "It's not a number.\n"
     ]
    }
   ],
   "source": [
    "big_no(a)"
   ]
  },
  {
   "cell_type": "code",
   "execution_count": 141,
   "id": "d6ecd36d",
   "metadata": {},
   "outputs": [
    {
     "name": "stdout",
     "output_type": "stream",
     "text": [
      "It's not a Big 'No!'.\n"
     ]
    }
   ],
   "source": [
    "big_no(4)"
   ]
  },
  {
   "cell_type": "code",
   "execution_count": 142,
   "id": "9bdcb069",
   "metadata": {
    "scrolled": false
   },
   "outputs": [
    {
     "name": "stdout",
     "output_type": "stream",
     "text": [
      "NOOOOOOOOOOOOOOOOOOOOOOOOOOOOOOOOOOOOOOOOOOOOOOOOOOOOOOOOOOOOOOOOOOOOOOOOOOOOOOOOOOOOOOOOOOOOOOOOOOOO!\n"
     ]
    }
   ],
   "source": [
    "big_no(100)"
   ]
  },
  {
   "cell_type": "markdown",
   "id": "b2eca2e1",
   "metadata": {},
   "source": [
    "6.2  Divide variable `text` using split method: add to `oov` all words (w/o repetitions), which are not included in `vocab` list."
   ]
  },
  {
   "cell_type": "code",
   "execution_count": 175,
   "id": "2f68f46c",
   "metadata": {},
   "outputs": [],
   "source": [
    "text = \"this is a string , which i will use for string testing\"\n",
    "vocab = [',', 'this', 'is', 'a', 'which', 'for', 'will', 'i']\n"
   ]
  },
  {
   "cell_type": "code",
   "execution_count": 176,
   "id": "722db108",
   "metadata": {},
   "outputs": [],
   "source": [
    "def div_func(text):\n",
    "    oov = []\n",
    "    text_list = text.split()\n",
    "    \n",
    "    for word in text_list:\n",
    "        if word not in vocab:\n",
    "            oov.append(word)\n",
    "    return(oov)"
   ]
  },
  {
   "cell_type": "code",
   "execution_count": 177,
   "id": "88f806ed",
   "metadata": {
    "scrolled": false
   },
   "outputs": [
    {
     "data": {
      "text/plain": [
       "['string', 'use', 'string', 'testing']"
      ]
     },
     "execution_count": 177,
     "metadata": {},
     "output_type": "execute_result"
    }
   ],
   "source": [
    "div_func('this is a string , which i will use for string testing')"
   ]
  },
  {
   "cell_type": "markdown",
   "id": "75088baf",
   "metadata": {},
   "source": [
    "6.3 Write a function that converts Fahrenheit to Celsius (or the other way around) using the formula:\n",
    "<br>\n",
    "F = 32 + 9/5*C"
   ]
  },
  {
   "cell_type": "code",
   "execution_count": 229,
   "id": "4afa4b9e",
   "metadata": {},
   "outputs": [],
   "source": [
    "def fah_cel(temp,x):\n",
    "    if x == 'C':\n",
    "        temp_out = (temp - 32) * (5 / 9)\n",
    "        print(f'{temp}°F = {round(temp_out,2)}°C.')\n",
    "    if x == 'F':\n",
    "        temp_out = 32 + (9 / 5 * temp)\n",
    "        print(f'{temp}°C = {round(temp_out,2)}°F.')"
   ]
  },
  {
   "cell_type": "code",
   "execution_count": 230,
   "id": "cc5f79c4",
   "metadata": {},
   "outputs": [
    {
     "name": "stdout",
     "output_type": "stream",
     "text": [
      "30°C = 86.0°F.\n"
     ]
    }
   ],
   "source": [
    "fah_cel(30,'F')"
   ]
  },
  {
   "cell_type": "code",
   "execution_count": 231,
   "id": "8a074d75",
   "metadata": {},
   "outputs": [
    {
     "name": "stdout",
     "output_type": "stream",
     "text": [
      "30°F = -1.11°C.\n"
     ]
    }
   ],
   "source": [
    "fah_cel(30,'C')"
   ]
  },
  {
   "cell_type": "markdown",
   "id": "6f64cbe8",
   "metadata": {},
   "source": [
    "6.4 The `Letters` dictionary below contains information about letters in Scrabble: how many tiles with a given letter are in the game and the point value of a given letter. \n",
    "<br>\n",
    "Write a program that reads a word from the keyboard and then returns how many points the word is worth."
   ]
  },
  {
   "cell_type": "code",
   "execution_count": 236,
   "id": "dab1ee8c",
   "metadata": {},
   "outputs": [],
   "source": [
    "Letters = {\n",
    "        'a': { 'quantity' : 9, 'value': 1},\n",
    "        'b': { 'quantity' : 2, 'value': 3},\n",
    "        'c': { 'quantity' : 2, 'value': 3},\n",
    "        'd': { 'quantity' : 4, 'value': 2},\n",
    "        'e': { 'quantity' : 12, 'value': 1},\n",
    "        'f': { 'quantity' : 2, 'value': 4},\n",
    "        'g': { 'quantity' : 3, 'value': 2},\n",
    "        'h': { 'quantity' : 2, 'value': 4},\n",
    "        'i': { 'quantity' : 9, 'value': 1},\n",
    "        'j': { 'quantity' : 1, 'value': 8},\n",
    "        'k': { 'quantity' : 1, 'value': 5},\n",
    "        'l': { 'quantity' : 4, 'value': 1},\n",
    "        'm': { 'quantity' : 2, 'value': 3},\n",
    "        'n': { 'quantity' : 6, 'value': 1},\n",
    "        'o': { 'quantity' : 8, 'value': 1},\n",
    "        'p': { 'quantity' : 2, 'value': 3},\n",
    "        'q': { 'quantity' : 1, 'value': 10},\n",
    "        'r': { 'quantity' : 6, 'value': 1},\n",
    "        's': { 'quantity' : 4, 'value': 1},\n",
    "        't': { 'quantity' : 6, 'value': 1},\n",
    "        'u': { 'quantity' : 4, 'value': 1},\n",
    "        'v': { 'quantity' : 2, 'value': 4},\n",
    "        'w': { 'quantity' : 2, 'value': 4},\n",
    "        'x': { 'quantity' : 1, 'value': 8},\n",
    "        'y': { 'quantity' : 2, 'value': 4},\n",
    "        'z': { 'quantity' : 1, 'value': 10},\n",
    "        '*': { 'quantity' : 2, 'value': 0}\n",
    "        }"
   ]
  },
  {
   "cell_type": "code",
   "execution_count": 296,
   "id": "a118ddb3",
   "metadata": {},
   "outputs": [],
   "source": [
    "def scrabble(text):\n",
    "        \n",
    "    if type(text) != str:\n",
    "        return(\"This is not a string.\")\n",
    "    \n",
    "    text = text.lower()\n",
    "    sum = 0\n",
    "    \n",
    "    for t in text:\n",
    "        if t not in Letters.keys():\n",
    "            return(\"This is not a correct word.\")\n",
    "        else:\n",
    "            sum += Letters[t]['value']\n",
    "   \n",
    "    print(f'\\'{text.upper()}\\' is worth {sum} points.')"
   ]
  },
  {
   "cell_type": "code",
   "execution_count": 297,
   "id": "675ce962",
   "metadata": {},
   "outputs": [
    {
     "data": {
      "text/plain": [
       "'This is not a string.'"
      ]
     },
     "execution_count": 297,
     "metadata": {},
     "output_type": "execute_result"
    }
   ],
   "source": [
    "scrabble(1245)"
   ]
  },
  {
   "cell_type": "code",
   "execution_count": 298,
   "id": "3d5f144a",
   "metadata": {},
   "outputs": [
    {
     "name": "stdout",
     "output_type": "stream",
     "text": [
      "'FAHRENHEIT' is worth 19 points.\n"
     ]
    }
   ],
   "source": [
    "scrabble('Fahrenheit')"
   ]
  },
  {
   "cell_type": "code",
   "execution_count": 299,
   "id": "6f6620e4",
   "metadata": {},
   "outputs": [
    {
     "data": {
      "text/plain": [
       "'This is not a correct word.'"
      ]
     },
     "execution_count": 299,
     "metadata": {},
     "output_type": "execute_result"
    }
   ],
   "source": [
    "scrabble('Sk8terBoy')"
   ]
  },
  {
   "cell_type": "code",
   "execution_count": 300,
   "id": "aea188f3",
   "metadata": {},
   "outputs": [
    {
     "name": "stdout",
     "output_type": "stream",
     "text": [
      "187\n"
     ]
    }
   ],
   "source": [
    "#B Calculate what is total value of all tiles in Scrabble?\n",
    "tiles_sum = 0\n",
    "\n",
    "for tile in Letters:\n",
    "    tiles_sum += Letters[tile]['quantity'] * Letters[tile]['value']\n",
    "print(tiles_sum)"
   ]
  },
  {
   "cell_type": "markdown",
   "id": "22c1a88b",
   "metadata": {},
   "source": [
    "7.2 Write a recursive function that returns the n value of the Fibonacci sequence.\n",
    "<br>\n",
    "<br>\n",
    "Fibonacci sequence:\n",
    "a[0] = 1, a[1] = 1, a[n] = a[n-1] + a[n-2] for n>=2"
   ]
  },
  {
   "cell_type": "code",
   "execution_count": 381,
   "id": "4aa93103",
   "metadata": {},
   "outputs": [],
   "source": [
    "def fib(n):\n",
    "    if n == 0:\n",
    "        return(0)\n",
    "    if n == 1:\n",
    "        return(1)\n",
    "    if n >= 2:\n",
    "        return(fib(n-1)+fib(n-2))"
   ]
  },
  {
   "cell_type": "code",
   "execution_count": 383,
   "id": "85e82202",
   "metadata": {
    "scrolled": true
   },
   "outputs": [
    {
     "data": {
      "text/plain": [
       "(0, 1, 1)"
      ]
     },
     "execution_count": 383,
     "metadata": {},
     "output_type": "execute_result"
    }
   ],
   "source": [
    "fib(0),fib(1),fib(2)"
   ]
  },
  {
   "cell_type": "code",
   "execution_count": 384,
   "id": "108bc903",
   "metadata": {},
   "outputs": [
    {
     "data": {
      "text/plain": [
       "55"
      ]
     },
     "execution_count": 384,
     "metadata": {},
     "output_type": "execute_result"
    }
   ],
   "source": [
    "fib(10)"
   ]
  },
  {
   "cell_type": "code",
   "execution_count": 338,
   "id": "93ffa2d7",
   "metadata": {},
   "outputs": [],
   "source": [
    "#A Write a function that computes the n value of the Fibonacci sequence WITHOUT using recursion."
   ]
  },
  {
   "cell_type": "code",
   "execution_count": 386,
   "id": "f8c9ff61",
   "metadata": {},
   "outputs": [],
   "source": [
    "def fib2(n):\n",
    "    fib_list = [0,1]\n",
    "    \n",
    "    if n == 0:\n",
    "        return(0)\n",
    "    if n == 1:\n",
    "        return(1)\n",
    "    if n >= 2:\n",
    "        \n",
    "        for x in range(2,n+1):\n",
    "            fib_list.append(fib_list[x-1]+fib_list[x-2]) \n",
    "    \n",
    "    return(fib_list[-1])"
   ]
  },
  {
   "cell_type": "code",
   "execution_count": 387,
   "id": "9badbc9c",
   "metadata": {},
   "outputs": [
    {
     "data": {
      "text/plain": [
       "(0, 1, 1)"
      ]
     },
     "execution_count": 387,
     "metadata": {},
     "output_type": "execute_result"
    }
   ],
   "source": [
    "fib2(0),fib2(1),fib2(2)"
   ]
  },
  {
   "cell_type": "code",
   "execution_count": 388,
   "id": "50e87caa",
   "metadata": {},
   "outputs": [
    {
     "data": {
      "text/plain": [
       "55"
      ]
     },
     "execution_count": 388,
     "metadata": {},
     "output_type": "execute_result"
    }
   ],
   "source": [
    "fib2(10)"
   ]
  },
  {
   "cell_type": "markdown",
   "id": "cf9d6f7b",
   "metadata": {},
   "source": [
    "7.3 Write a sum_div35(n) function that returns the sum of all divisible numbers by 3 or 5 smaller than n."
   ]
  },
  {
   "cell_type": "code",
   "execution_count": 389,
   "id": "950830e3",
   "metadata": {},
   "outputs": [],
   "source": [
    "def sum_div35(n):\n",
    "    func_list = []\n",
    "    \n",
    "    for x in range(0,n):\n",
    "        if x%3 == 0 or x%5 == 0:\n",
    "            func_list.append(x)\n",
    "    \n",
    "    return(sum(func_list))"
   ]
  },
  {
   "cell_type": "code",
   "execution_count": 390,
   "id": "acf3a12f",
   "metadata": {},
   "outputs": [
    {
     "data": {
      "text/plain": [
       "2318"
      ]
     },
     "execution_count": 390,
     "metadata": {},
     "output_type": "execute_result"
    }
   ],
   "source": [
    "sum_div35(100)"
   ]
  },
  {
   "cell_type": "markdown",
   "id": "c41e91cb",
   "metadata": {},
   "source": [
    "### 7.0 LIBRARIES"
   ]
  },
  {
   "cell_type": "markdown",
   "id": "f1ab057d",
   "metadata": {},
   "source": [
    "7.1 Import the statistics library, which contains functions to calculate basic statistical quantities (mean, median, mode):\n",
    "<br> statistics.mean -- average calculation\n",
    "<br> statistics.median -- calculation of the median\n",
    "<br> statistics.variance -- calculation of variance\n",
    "<br> statistics.stdev -- calculation of standard deviation\n",
    "<br> Each of these functions takes one argument: a list of values.\n",
    "<br><br> Calculate these quantities for values from the dictionary below.\n"
   ]
  },
  {
   "cell_type": "code",
   "execution_count": 314,
   "id": "3f0e985c",
   "metadata": {},
   "outputs": [],
   "source": [
    "members = {\n",
    "    'April': 211819,\n",
    "    'May': 682758,\n",
    "    'June': 737011,\n",
    "    'July': 779511,\n",
    "    'August': 673790,\n",
    "    'September': 673790,\n",
    "    'October': 444177,\n",
    "    'November': 136791,\n",
    "    }"
   ]
  },
  {
   "cell_type": "code",
   "execution_count": 303,
   "id": "c6166df3",
   "metadata": {},
   "outputs": [],
   "source": [
    "import statistics as stat"
   ]
  },
  {
   "cell_type": "code",
   "execution_count": 316,
   "id": "4eb77c35",
   "metadata": {},
   "outputs": [
    {
     "data": {
      "text/plain": [
       "542455.875"
      ]
     },
     "execution_count": 316,
     "metadata": {},
     "output_type": "execute_result"
    }
   ],
   "source": [
    "#A Mean:\n",
    "stat.mean(members.values())"
   ]
  },
  {
   "cell_type": "code",
   "execution_count": 317,
   "id": "7aec898b",
   "metadata": {},
   "outputs": [
    {
     "data": {
      "text/plain": [
       "673790.0"
      ]
     },
     "execution_count": 317,
     "metadata": {},
     "output_type": "execute_result"
    }
   ],
   "source": [
    "#B Median:\n",
    "stat.median(members.values())"
   ]
  },
  {
   "cell_type": "code",
   "execution_count": 318,
   "id": "89cdaa31",
   "metadata": {},
   "outputs": [
    {
     "data": {
      "text/plain": [
       "61681755885.83929"
      ]
     },
     "execution_count": 318,
     "metadata": {},
     "output_type": "execute_result"
    }
   ],
   "source": [
    "#C Variance:\n",
    "stat.variance(members.values())"
   ]
  },
  {
   "cell_type": "code",
   "execution_count": 319,
   "id": "850109d3",
   "metadata": {},
   "outputs": [
    {
     "data": {
      "text/plain": [
       "248358.12023334226"
      ]
     },
     "execution_count": 319,
     "metadata": {},
     "output_type": "execute_result"
    }
   ],
   "source": [
    "#D Standard deviation:\n",
    "stat.stdev(members.values())"
   ]
  },
  {
   "cell_type": "markdown",
   "id": "f44dbac9",
   "metadata": {},
   "source": [
    "7.2 Import random and math libraries. Using the random function, pick two numbers and assign the results to the variables x and y.\n"
   ]
  },
  {
   "cell_type": "code",
   "execution_count": 395,
   "id": "37877f46",
   "metadata": {},
   "outputs": [
    {
     "name": "stdout",
     "output_type": "stream",
     "text": [
      "0.4114424687993584 0.6280654884167824\n"
     ]
    }
   ],
   "source": [
    "import random as r\n",
    "import math\n",
    "\n",
    "x = r.random()\n",
    "y = r.random()\n",
    "\n",
    "print(x,y)"
   ]
  },
  {
   "cell_type": "code",
   "execution_count": 396,
   "id": "e3afda46",
   "metadata": {},
   "outputs": [
    {
     "data": {
      "text/plain": [
       "0.7508336452716557"
      ]
     },
     "execution_count": 396,
     "metadata": {},
     "output_type": "execute_result"
    }
   ],
   "source": [
    "#A Using the hypot function calculate the distance of the point with coordinates (x,y).\n",
    "math.hypot(x,y)"
   ]
  },
  {
   "cell_type": "code",
   "execution_count": 434,
   "id": "31ead00d",
   "metadata": {},
   "outputs": [
    {
     "name": "stdout",
     "output_type": "stream",
     "text": [
      "8\n"
     ]
    }
   ],
   "source": [
    "#B Add a loop that will do this n = 10 times and count how many times the calculated distance is less than 1.\n",
    "l = []\n",
    "\n",
    "for n in range(0,10):\n",
    "    \n",
    "    x = r.random()\n",
    "    y = r.random()\n",
    "    \n",
    "    if math.hypot(x,y) < 1:\n",
    "        l.append(math.hypot(x,y))\n",
    "    \n",
    "print(len(l))"
   ]
  },
  {
   "cell_type": "code",
   "execution_count": 446,
   "id": "759c404d",
   "metadata": {},
   "outputs": [
    {
     "name": "stdout",
     "output_type": "stream",
     "text": [
      "3.2\n"
     ]
    }
   ],
   "source": [
    "#C Calculate the ratio of the number of points for which the distance was less than 1 to the total number of points.\n",
    "# Multiply this value by 4.\n",
    "\n",
    "l = []\n",
    "z = 10\n",
    "\n",
    "for n in range(0,z):\n",
    "    \n",
    "    x = r.random()\n",
    "    y = r.random()\n",
    "    \n",
    "    if math.hypot(x,y) < 1:\n",
    "        l.append(math.hypot(x,y))\n",
    "    \n",
    "print((len(l)/z)*4)"
   ]
  },
  {
   "cell_type": "code",
   "execution_count": 391,
   "id": "0665a091",
   "metadata": {},
   "outputs": [],
   "source": [
    "#D Substitute for n the values 100, 1000, 1000000. To what value do the values converge?"
   ]
  },
  {
   "cell_type": "code",
   "execution_count": 448,
   "id": "16b52e36",
   "metadata": {},
   "outputs": [
    {
     "name": "stdout",
     "output_type": "stream",
     "text": [
      "3.08\n"
     ]
    }
   ],
   "source": [
    "l = []\n",
    "z = 100\n",
    "\n",
    "for n in range(0,z):\n",
    "    \n",
    "    x = r.random()\n",
    "    y = r.random()\n",
    "    \n",
    "    if math.hypot(x,y) < 1:\n",
    "        l.append(math.hypot(x,y))\n",
    "\n",
    "print((len(l)/z)*4)"
   ]
  },
  {
   "cell_type": "code",
   "execution_count": 451,
   "id": "314c5c5a",
   "metadata": {},
   "outputs": [
    {
     "name": "stdout",
     "output_type": "stream",
     "text": [
      "3.264\n"
     ]
    }
   ],
   "source": [
    "l = []\n",
    "z = 1000\n",
    "\n",
    "for n in range(0,z):\n",
    "    \n",
    "    x = r.random()\n",
    "    y = r.random()\n",
    "    \n",
    "    if math.hypot(x,y) < 1:\n",
    "        l.append(math.hypot(x,y))\n",
    "\n",
    "print((len(l)/z)*4)"
   ]
  },
  {
   "cell_type": "code",
   "execution_count": 452,
   "id": "14522170",
   "metadata": {},
   "outputs": [
    {
     "name": "stdout",
     "output_type": "stream",
     "text": [
      "3.13948\n"
     ]
    }
   ],
   "source": [
    "l = []\n",
    "z = 1000000\n",
    "\n",
    "for n in range(0,z):\n",
    "    \n",
    "    x = r.random()\n",
    "    y = r.random()\n",
    "    \n",
    "    if math.hypot(x,y) < 1:\n",
    "        l.append(math.hypot(x,y))\n",
    "\n",
    "print((len(l)/z)*4)"
   ]
  }
 ],
 "metadata": {
  "kernelspec": {
   "display_name": "Python 3 (ipykernel)",
   "language": "python",
   "name": "python3"
  },
  "language_info": {
   "codemirror_mode": {
    "name": "ipython",
    "version": 3
   },
   "file_extension": ".py",
   "mimetype": "text/x-python",
   "name": "python",
   "nbconvert_exporter": "python",
   "pygments_lexer": "ipython3",
   "version": "3.9.13"
  }
 },
 "nbformat": 4,
 "nbformat_minor": 5
}
