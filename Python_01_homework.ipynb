{
 "cells": [
  {
   "cell_type": "markdown",
   "id": "52cc9439",
   "metadata": {},
   "source": [
    "<b>1. Common chars</b>\n",
    "<br>\n",
    "Write a common_chars(string1, string2) function that returns an alphabetically ordered list of common letters from string1 and string2. Both strings will consist only of lowercase letters."
   ]
  },
  {
   "cell_type": "code",
   "execution_count": 1,
   "id": "a2c80c16",
   "metadata": {},
   "outputs": [],
   "source": [
    "# Import library to work on strings\n",
    "import string\n",
    "\n",
    "def common_chars(string1,string2):\n",
    "    l = []\n",
    "    \n",
    "    # Remove blank spaces & convert to lowercase letters:\n",
    "    string1 = (string1.replace(' ','')).lower()\n",
    "    string2 = (string2.replace(' ','')).lower()\n",
    "    \n",
    "    for letter1 in string1:\n",
    "        for letter2 in string2:\n",
    "            if letter1 == letter2 and letter1 not in l:\n",
    "                l.append(letter1)\n",
    "    \n",
    "    # Sort list in ascending order (default)\n",
    "    l.sort()\n",
    "    \n",
    "    return(l)"
   ]
  },
  {
   "cell_type": "code",
   "execution_count": 2,
   "id": "aa041a15",
   "metadata": {},
   "outputs": [],
   "source": [
    "input1 = \"Th is IS   a string\"\n",
    "input2 = \"Ala Ma Kota\""
   ]
  },
  {
   "cell_type": "code",
   "execution_count": 3,
   "id": "d2aa6642",
   "metadata": {
    "scrolled": false
   },
   "outputs": [
    {
     "data": {
      "text/plain": [
       "['a', 't']"
      ]
     },
     "execution_count": 3,
     "metadata": {},
     "output_type": "execute_result"
    }
   ],
   "source": [
    "common_chars(input1,input2)"
   ]
  },
  {
   "cell_type": "markdown",
   "id": "047ff166",
   "metadata": {},
   "source": [
    "<b>2. Perimeter</b>\n",
    "<br>\n",
    "Write a function (`perimeter`) which will calculate and return the perimeter of the given figure. The function takes exactly 1 argument, which is a list of 2-element tuples denoting the x and y coordinates of the vertex."
   ]
  },
  {
   "cell_type": "code",
   "execution_count": 4,
   "id": "819aa18e",
   "metadata": {},
   "outputs": [],
   "source": [
    "def perimeter(points):\n",
    "    # Empty lists to store values - line segments, x points and y points:\n",
    "    perimeter = []\n",
    "    x_list = []\n",
    "    y_list = []\n",
    "\n",
    "    # Duplicate first point to last position in the list (easier to calculate last segment):\n",
    "    points.append(points[0])\n",
    "\n",
    "    # Add x, y to x_list and y_list:\n",
    "    for (x,y) in points:\n",
    "        x_list.append(x)\n",
    "        y_list.append(y)\n",
    "\n",
    "    # Append each segment to perimeter list:\n",
    "    for n in range (0,len(x_list)-1):\n",
    "        perimeter.append(((x_list[n+1] - x_list[n])**2 + (y_list[n+1] - y_list[n])**2)**0.5)\n",
    "     \n",
    "    return(sum(perimeter))"
   ]
  },
  {
   "cell_type": "code",
   "execution_count": 5,
   "id": "6c862931",
   "metadata": {},
   "outputs": [],
   "source": [
    "points = [(0,0), (0,1), (1,1), (1,0)]"
   ]
  },
  {
   "cell_type": "code",
   "execution_count": 6,
   "id": "c27f9ecd",
   "metadata": {},
   "outputs": [
    {
     "data": {
      "text/plain": [
       "4.0"
      ]
     },
     "execution_count": 6,
     "metadata": {},
     "output_type": "execute_result"
    }
   ],
   "source": [
    "perimeter(points)"
   ]
  },
  {
   "cell_type": "code",
   "execution_count": 7,
   "id": "9e1cb672",
   "metadata": {},
   "outputs": [],
   "source": [
    "# healthcheck:\n",
    "# https://www.geogebra.org/classic/Tt7U45Ea\n",
    "points2 = [(-4, 2), (-3, 5), (-2, 4), (-2, 5), (0, 3), (0, 1), (1, 0), (5, 1), (8, 5), (5, 0), (4, -5), (3, -5), (3, -3), (2, -2), (1, -2), (1, -5), (0, -5), (0, -2), (-1, -2), (-1, -5), (-2, -5), (-2, -2), (-2, 0), (-4, 2)]"
   ]
  },
  {
   "cell_type": "code",
   "execution_count": 8,
   "id": "59d4b2c2",
   "metadata": {
    "scrolled": true
   },
   "outputs": [
    {
     "data": {
      "text/plain": [
       "57.11484963083579"
      ]
     },
     "execution_count": 8,
     "metadata": {},
     "output_type": "execute_result"
    }
   ],
   "source": [
    "perimeter(points2)"
   ]
  },
  {
   "cell_type": "markdown",
   "id": "4c7a2907",
   "metadata": {},
   "source": [
    "<b>3.0 Dog data</b>\n",
    "<br> Data about dogs and their owners has been loaded into the `dog_data` list. Each element of the list is a dictionary,\n",
    "which has 4 keys 'OwnerAge', 'Gender', 'Breed', 'DogAge' denoting the owner's age (age range), dog's gender, dog's breed, and dog's age.\n",
    "<br><br>\n",
    "An example list item:\n",
    "<br>{'OwnerAge': 60, 'Gender': 'M', 'Breed': 'Welsh Terrier', 'DogAge': 3}"
   ]
  },
  {
   "cell_type": "code",
   "execution_count": 9,
   "id": "37cc072a",
   "metadata": {},
   "outputs": [],
   "source": [
    "# Import csv data to dog_data list:\n",
    "import csv\n",
    "from pathlib import Path\n",
    "\n",
    "dog_data = []\n",
    "\n",
    "data_file = open('dogs-data.csv', encoding='utf-8')\n",
    "dog_data = csv.DictReader(data_file)\n",
    "dog_data = list(dog_data)"
   ]
  },
  {
   "cell_type": "code",
   "execution_count": 10,
   "id": "c85d55df",
   "metadata": {
    "scrolled": true
   },
   "outputs": [
    {
     "name": "stdout",
     "output_type": "stream",
     "text": [
      "383\n"
     ]
    }
   ],
   "source": [
    "#A\n",
    "# Add all dog breeds contained in dog_data to new list, `breeds`. List elements should be unique and sorted alphabetically.\n",
    "breeds = []\n",
    "\n",
    "for x in dog_data:\n",
    "    if x['Breed'] not in breeds:\n",
    "        breeds.append(x['Breed'])\n",
    "\n",
    "breeds.sort()\n",
    "\n",
    "print(len(breeds))"
   ]
  },
  {
   "cell_type": "code",
   "execution_count": 11,
   "id": "107690d2",
   "metadata": {},
   "outputs": [
    {
     "name": "stdout",
     "output_type": "stream",
     "text": [
      "['10', '20', '30', '40', '50', '60', '70', '80', '90', '999']\n"
     ]
    }
   ],
   "source": [
    "#B Find the most popular dog breed for each age range (key `OwnerAge`) and save the result as the_most_popular_breed dictionary: \n",
    "# with keys as age ranges and the values as the most popular breed of dog (for a given range).\n",
    "\n",
    "# Check what different ages are in the dog_data:\n",
    "ages = []\n",
    "\n",
    "for x in dog_data:\n",
    "    if x['OwnerAge'] not in ages:\n",
    "        ages.append(x['OwnerAge'])\n",
    "\n",
    "ages.sort()\n",
    "\n",
    "print(ages)"
   ]
  },
  {
   "cell_type": "code",
   "execution_count": 12,
   "id": "751fd302",
   "metadata": {},
   "outputs": [],
   "source": [
    "# Create new dictionary based on ages in dog_data:\n",
    "the_most_popular_breed = {}\n",
    "the_most_popular_breed = {x:[] for x in ages}"
   ]
  },
  {
   "cell_type": "code",
   "execution_count": 13,
   "id": "e6a182ed",
   "metadata": {},
   "outputs": [],
   "source": [
    "# Assign breeds to the list with age ranges:\n",
    "for item in dog_data:\n",
    "    the_most_popular_breed[item['OwnerAge']].append(item['Breed'])"
   ]
  },
  {
   "cell_type": "code",
   "execution_count": 14,
   "id": "b25e2543",
   "metadata": {},
   "outputs": [
    {
     "name": "stdout",
     "output_type": "stream",
     "text": [
      "{'10': 'Yorkshire Terrier', '20': 'Chihuahua', '30': 'Chihuahua', '40': 'Chihuahua', '50': 'Labrador Retriever', '60': 'Labrador Retriever', '70': 'Labrador Retriever', '80': 'Pudel', '90': 'Pudel', '999': 'Mops'}\n"
     ]
    }
   ],
   "source": [
    "# Import statistic to find mode (most frequent value) of the list in the_most_popular_breed dictionary\n",
    "\n",
    "import statistics as stat\n",
    "\n",
    "for age in the_most_popular_breed:\n",
    "    the_most_popular_breed[age] = stat.mode(the_most_popular_breed[age])\n",
    "\n",
    "print(the_most_popular_breed)"
   ]
  },
  {
   "cell_type": "code",
   "execution_count": 15,
   "id": "616bd2d0",
   "metadata": {
    "scrolled": true
   },
   "outputs": [
    {
     "name": "stdout",
     "output_type": "stream",
     "text": [
      "53616\n",
      "53616\n",
      "53616\n"
     ]
    }
   ],
   "source": [
    "#C Using the statistics library (https://docs.python.org/3/library/statistics.html#)\n",
    "# calculate mean, mode and age variance of the dogs.\n",
    "import statistics as stat\n",
    "\n",
    "#Create list with dog ages\n",
    "dog_ages = []\n",
    "\n",
    "for x in dog_data:\n",
    "    dog_ages.append(x['DogAge'])\n",
    "    \n",
    "print(len(dog_data))\n",
    "print(len(dog_ages)) #Healthcheck: should be the same as dog_data\n",
    "\n",
    "#Convert list to integers:\n",
    "dog_ages = [int(x) for x in dog_ages]\n",
    "\n",
    "print(len(dog_ages)) #healthcheck"
   ]
  },
  {
   "cell_type": "code",
   "execution_count": 16,
   "id": "519cf08f",
   "metadata": {},
   "outputs": [
    {
     "data": {
      "text/plain": [
       "6.046609221128022"
      ]
     },
     "execution_count": 16,
     "metadata": {},
     "output_type": "execute_result"
    }
   ],
   "source": [
    "# Mean\n",
    "stat.mean(dog_ages)"
   ]
  },
  {
   "cell_type": "code",
   "execution_count": 17,
   "id": "3d3cc12d",
   "metadata": {},
   "outputs": [
    {
     "data": {
      "text/plain": [
       "0"
      ]
     },
     "execution_count": 17,
     "metadata": {},
     "output_type": "execute_result"
    }
   ],
   "source": [
    "# Mode\n",
    "stat.mode(dog_ages)"
   ]
  },
  {
   "cell_type": "code",
   "execution_count": 18,
   "id": "fa288ab9",
   "metadata": {},
   "outputs": [
    {
     "data": {
      "text/plain": [
       "164.45547931654204"
      ]
     },
     "execution_count": 18,
     "metadata": {},
     "output_type": "execute_result"
    }
   ],
   "source": [
    "# Variance\n",
    "stat.variance(dog_ages)"
   ]
  },
  {
   "cell_type": "code",
   "execution_count": 19,
   "id": "47167413",
   "metadata": {
    "scrolled": true
   },
   "outputs": [
    {
     "name": "stdout",
     "output_type": "stream",
     "text": [
      "['Airedale Terrier', 'American Staffordshire Terrier', 'Australian Silky Terrier', 'Australian Terrier', 'Bedlington Terrier', 'Biewer Yorkshire Terrier', 'Border Terrier', 'Boston Terrier', 'Brasilianischer Terrier', 'Bull Terrier', 'Cairn Terrier', 'Deutscher Jagdterrier', 'English Staffordshire Terrier', 'English Toy Terrier', 'Foxterrier', 'Irish Soft Coated Wheaten Terrier', 'Irish Terrier', 'Jack Russel Terrier', 'Kerry Blue Terrier', 'Lakeland Terrier', 'Manchester Terrier', 'Miniature Bull Terrier', 'Norfolk Terrier', 'Norwich Terrier', 'Parson Jack Russell Terrier', 'Parson Russell Terrier', 'Parson Terrier', 'Pit Bull Terrier', 'Russischer schwarzer Terrier', 'Scottish Terrier', 'Silky Terrier', 'Skye Terrier', 'Soft Coated Wheaten Terrier', 'Staffordshire Bullterrier', 'Terrier', 'Tibet Terrier', 'Toyterrier', 'Tschechischer Terrier', 'Welsh Terrier', 'West Highland White Terrier', 'Yorkshire Terrier']\n"
     ]
    }
   ],
   "source": [
    "#D Write to the file `terriers.txt` how many Terriers there are and list all the names. \n",
    "# Save the data in CSV format. Use the `csv` library.\n",
    "\n",
    "# Create empty list to which we assign distinct terriers breeds:\n",
    "terriers_list = []\n",
    "\n",
    "for x in dog_data:\n",
    "    if ('Terrier' in x['Breed']  or 'terrier' in x['Breed']) and x['Breed'] not in terriers_list:\n",
    "        terriers_list.append(x['Breed'])\n",
    "\n",
    "terriers_list.sort()\n",
    "print(terriers_list)"
   ]
  },
  {
   "cell_type": "code",
   "execution_count": 20,
   "id": "7b5591a1",
   "metadata": {
    "scrolled": true
   },
   "outputs": [],
   "source": [
    "# Create terriers dictionary with initial count 0:\n",
    "terriers = {x:0 for x in terriers_list}"
   ]
  },
  {
   "cell_type": "code",
   "execution_count": 21,
   "id": "670ce6ca",
   "metadata": {},
   "outputs": [],
   "source": [
    "# Iterate through dog_data to update terriers dictionary:\n",
    "for item in dog_data:\n",
    "    if item['Breed'] in terriers.keys():\n",
    "        terriers[item['Breed']] +=1   "
   ]
  },
  {
   "cell_type": "code",
   "execution_count": 22,
   "id": "03b1bfd3",
   "metadata": {},
   "outputs": [],
   "source": [
    "# Save terriers dictionary to csv file:\n",
    "with open('terriers.txt', 'w', newline='') as csvfile:\n",
    "    writer = csv.writer(csvfile)\n",
    "    writer.writerow(['Breed', 'Count'])\n",
    "    for row in terriers.items():\n",
    "        writer.writerow(row)"
   ]
  }
 ],
 "metadata": {
  "kernelspec": {
   "display_name": "Python 3 (ipykernel)",
   "language": "python",
   "name": "python3"
  },
  "language_info": {
   "codemirror_mode": {
    "name": "ipython",
    "version": 3
   },
   "file_extension": ".py",
   "mimetype": "text/x-python",
   "name": "python",
   "nbconvert_exporter": "python",
   "pygments_lexer": "ipython3",
   "version": "3.9.13"
  }
 },
 "nbformat": 4,
 "nbformat_minor": 5
}
