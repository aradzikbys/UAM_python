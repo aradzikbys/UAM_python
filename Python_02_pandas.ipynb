{
 "cells": [
  {
   "cell_type": "markdown",
   "id": "381d2d40",
   "metadata": {},
   "source": [
    "### 311 dataset"
   ]
  },
  {
   "cell_type": "markdown",
   "id": "e4fb73ae",
   "metadata": {},
   "source": [
    "1. Load the dataset `311.csv` into the variable data."
   ]
  },
  {
   "cell_type": "code",
   "execution_count": 2,
   "id": "c3f8f208",
   "metadata": {},
   "outputs": [],
   "source": [
    "import pandas as pd"
   ]
  },
  {
   "cell_type": "code",
   "execution_count": 3,
   "id": "6a07af6e",
   "metadata": {},
   "outputs": [],
   "source": [
    "data = pd.read_csv('311.csv', low_memory=False)"
   ]
  },
  {
   "cell_type": "markdown",
   "id": "c11079e4",
   "metadata": {},
   "source": [
    "2. Display the first 5 rows of data."
   ]
  },
  {
   "cell_type": "code",
   "execution_count": 6,
   "id": "b612b136",
   "metadata": {},
   "outputs": [
    {
     "data": {
      "text/html": [
       "<div>\n",
       "<style scoped>\n",
       "    .dataframe tbody tr th:only-of-type {\n",
       "        vertical-align: middle;\n",
       "    }\n",
       "\n",
       "    .dataframe tbody tr th {\n",
       "        vertical-align: top;\n",
       "    }\n",
       "\n",
       "    .dataframe thead th {\n",
       "        text-align: right;\n",
       "    }\n",
       "</style>\n",
       "<table border=\"1\" class=\"dataframe\">\n",
       "  <thead>\n",
       "    <tr style=\"text-align: right;\">\n",
       "      <th></th>\n",
       "      <th>Unique Key</th>\n",
       "      <th>Created Date</th>\n",
       "      <th>Closed Date</th>\n",
       "      <th>Agency</th>\n",
       "      <th>Agency Name</th>\n",
       "      <th>Complaint Type</th>\n",
       "      <th>Descriptor</th>\n",
       "      <th>Location Type</th>\n",
       "      <th>Incident Zip</th>\n",
       "      <th>Incident Address</th>\n",
       "      <th>...</th>\n",
       "      <th>Bridge Highway Name</th>\n",
       "      <th>Bridge Highway Direction</th>\n",
       "      <th>Road Ramp</th>\n",
       "      <th>Bridge Highway Segment</th>\n",
       "      <th>Garage Lot Name</th>\n",
       "      <th>Ferry Direction</th>\n",
       "      <th>Ferry Terminal Name</th>\n",
       "      <th>Latitude</th>\n",
       "      <th>Longitude</th>\n",
       "      <th>Location</th>\n",
       "    </tr>\n",
       "  </thead>\n",
       "  <tbody>\n",
       "    <tr>\n",
       "      <th>0</th>\n",
       "      <td>26589651</td>\n",
       "      <td>10/31/2013 02:08:41 AM</td>\n",
       "      <td>NaN</td>\n",
       "      <td>NYPD</td>\n",
       "      <td>New York City Police Department</td>\n",
       "      <td>Noise - Street/Sidewalk</td>\n",
       "      <td>Loud Talking</td>\n",
       "      <td>Street/Sidewalk</td>\n",
       "      <td>11432</td>\n",
       "      <td>90-03 169 STREET</td>\n",
       "      <td>...</td>\n",
       "      <td>NaN</td>\n",
       "      <td>NaN</td>\n",
       "      <td>NaN</td>\n",
       "      <td>NaN</td>\n",
       "      <td>NaN</td>\n",
       "      <td>NaN</td>\n",
       "      <td>NaN</td>\n",
       "      <td>40.708275</td>\n",
       "      <td>-73.791604</td>\n",
       "      <td>(40.70827532593202, -73.79160395779721)</td>\n",
       "    </tr>\n",
       "    <tr>\n",
       "      <th>1</th>\n",
       "      <td>26593698</td>\n",
       "      <td>10/31/2013 02:01:04 AM</td>\n",
       "      <td>NaN</td>\n",
       "      <td>NYPD</td>\n",
       "      <td>New York City Police Department</td>\n",
       "      <td>Illegal Parking</td>\n",
       "      <td>Commercial Overnight Parking</td>\n",
       "      <td>Street/Sidewalk</td>\n",
       "      <td>11378</td>\n",
       "      <td>58 AVENUE</td>\n",
       "      <td>...</td>\n",
       "      <td>NaN</td>\n",
       "      <td>NaN</td>\n",
       "      <td>NaN</td>\n",
       "      <td>NaN</td>\n",
       "      <td>NaN</td>\n",
       "      <td>NaN</td>\n",
       "      <td>NaN</td>\n",
       "      <td>40.721041</td>\n",
       "      <td>-73.909453</td>\n",
       "      <td>(40.721040535628305, -73.90945306791765)</td>\n",
       "    </tr>\n",
       "    <tr>\n",
       "      <th>2</th>\n",
       "      <td>26594139</td>\n",
       "      <td>10/31/2013 02:00:24 AM</td>\n",
       "      <td>10/31/2013 02:40:32 AM</td>\n",
       "      <td>NYPD</td>\n",
       "      <td>New York City Police Department</td>\n",
       "      <td>Noise - Commercial</td>\n",
       "      <td>Loud Music/Party</td>\n",
       "      <td>Club/Bar/Restaurant</td>\n",
       "      <td>10032</td>\n",
       "      <td>4060 BROADWAY</td>\n",
       "      <td>...</td>\n",
       "      <td>NaN</td>\n",
       "      <td>NaN</td>\n",
       "      <td>NaN</td>\n",
       "      <td>NaN</td>\n",
       "      <td>NaN</td>\n",
       "      <td>NaN</td>\n",
       "      <td>NaN</td>\n",
       "      <td>40.843330</td>\n",
       "      <td>-73.939144</td>\n",
       "      <td>(40.84332975466513, -73.93914371913482)</td>\n",
       "    </tr>\n",
       "    <tr>\n",
       "      <th>3</th>\n",
       "      <td>26595721</td>\n",
       "      <td>10/31/2013 01:56:23 AM</td>\n",
       "      <td>10/31/2013 02:21:48 AM</td>\n",
       "      <td>NYPD</td>\n",
       "      <td>New York City Police Department</td>\n",
       "      <td>Noise - Vehicle</td>\n",
       "      <td>Car/Truck Horn</td>\n",
       "      <td>Street/Sidewalk</td>\n",
       "      <td>10023</td>\n",
       "      <td>WEST 72 STREET</td>\n",
       "      <td>...</td>\n",
       "      <td>NaN</td>\n",
       "      <td>NaN</td>\n",
       "      <td>NaN</td>\n",
       "      <td>NaN</td>\n",
       "      <td>NaN</td>\n",
       "      <td>NaN</td>\n",
       "      <td>NaN</td>\n",
       "      <td>40.778009</td>\n",
       "      <td>-73.980213</td>\n",
       "      <td>(40.7780087446372, -73.98021349023975)</td>\n",
       "    </tr>\n",
       "    <tr>\n",
       "      <th>4</th>\n",
       "      <td>26590930</td>\n",
       "      <td>10/31/2013 01:53:44 AM</td>\n",
       "      <td>NaN</td>\n",
       "      <td>DOHMH</td>\n",
       "      <td>Department of Health and Mental Hygiene</td>\n",
       "      <td>Rodent</td>\n",
       "      <td>Condition Attracting Rodents</td>\n",
       "      <td>Vacant Lot</td>\n",
       "      <td>10027</td>\n",
       "      <td>WEST 124 STREET</td>\n",
       "      <td>...</td>\n",
       "      <td>NaN</td>\n",
       "      <td>NaN</td>\n",
       "      <td>NaN</td>\n",
       "      <td>NaN</td>\n",
       "      <td>NaN</td>\n",
       "      <td>NaN</td>\n",
       "      <td>NaN</td>\n",
       "      <td>40.807691</td>\n",
       "      <td>-73.947387</td>\n",
       "      <td>(40.80769092704951, -73.94738703491433)</td>\n",
       "    </tr>\n",
       "  </tbody>\n",
       "</table>\n",
       "<p>5 rows × 52 columns</p>\n",
       "</div>"
      ],
      "text/plain": [
       "   Unique Key            Created Date             Closed Date Agency  \\\n",
       "0    26589651  10/31/2013 02:08:41 AM                     NaN   NYPD   \n",
       "1    26593698  10/31/2013 02:01:04 AM                     NaN   NYPD   \n",
       "2    26594139  10/31/2013 02:00:24 AM  10/31/2013 02:40:32 AM   NYPD   \n",
       "3    26595721  10/31/2013 01:56:23 AM  10/31/2013 02:21:48 AM   NYPD   \n",
       "4    26590930  10/31/2013 01:53:44 AM                     NaN  DOHMH   \n",
       "\n",
       "                               Agency Name           Complaint Type  \\\n",
       "0          New York City Police Department  Noise - Street/Sidewalk   \n",
       "1          New York City Police Department          Illegal Parking   \n",
       "2          New York City Police Department       Noise - Commercial   \n",
       "3          New York City Police Department          Noise - Vehicle   \n",
       "4  Department of Health and Mental Hygiene                   Rodent   \n",
       "\n",
       "                     Descriptor        Location Type Incident Zip  \\\n",
       "0                  Loud Talking      Street/Sidewalk        11432   \n",
       "1  Commercial Overnight Parking      Street/Sidewalk        11378   \n",
       "2              Loud Music/Party  Club/Bar/Restaurant        10032   \n",
       "3                Car/Truck Horn      Street/Sidewalk        10023   \n",
       "4  Condition Attracting Rodents           Vacant Lot        10027   \n",
       "\n",
       "   Incident Address  ... Bridge Highway Name Bridge Highway Direction  \\\n",
       "0  90-03 169 STREET  ...                 NaN                      NaN   \n",
       "1         58 AVENUE  ...                 NaN                      NaN   \n",
       "2     4060 BROADWAY  ...                 NaN                      NaN   \n",
       "3    WEST 72 STREET  ...                 NaN                      NaN   \n",
       "4   WEST 124 STREET  ...                 NaN                      NaN   \n",
       "\n",
       "  Road Ramp Bridge Highway Segment Garage Lot Name Ferry Direction  \\\n",
       "0       NaN                    NaN             NaN             NaN   \n",
       "1       NaN                    NaN             NaN             NaN   \n",
       "2       NaN                    NaN             NaN             NaN   \n",
       "3       NaN                    NaN             NaN             NaN   \n",
       "4       NaN                    NaN             NaN             NaN   \n",
       "\n",
       "  Ferry Terminal Name   Latitude  Longitude  \\\n",
       "0                 NaN  40.708275 -73.791604   \n",
       "1                 NaN  40.721041 -73.909453   \n",
       "2                 NaN  40.843330 -73.939144   \n",
       "3                 NaN  40.778009 -73.980213   \n",
       "4                 NaN  40.807691 -73.947387   \n",
       "\n",
       "                                   Location  \n",
       "0   (40.70827532593202, -73.79160395779721)  \n",
       "1  (40.721040535628305, -73.90945306791765)  \n",
       "2   (40.84332975466513, -73.93914371913482)  \n",
       "3    (40.7780087446372, -73.98021349023975)  \n",
       "4   (40.80769092704951, -73.94738703491433)  \n",
       "\n",
       "[5 rows x 52 columns]"
      ]
     },
     "execution_count": 6,
     "metadata": {},
     "output_type": "execute_result"
    }
   ],
   "source": [
    "data.head()"
   ]
  },
  {
   "cell_type": "markdown",
   "id": "ed7071e6",
   "metadata": {},
   "source": [
    "3. Display column names."
   ]
  },
  {
   "cell_type": "markdown",
   "id": "10bb21ee",
   "metadata": {},
   "source": [
    "4. Display how many columns and rows the dataset contains."
   ]
  },
  {
   "cell_type": "markdown",
   "id": "ac48606b",
   "metadata": {},
   "source": [
    "5. Display what values the ``City`` column has. Count the values in the ``City`` column."
   ]
  },
  {
   "cell_type": "markdown",
   "id": "365e8376",
   "metadata": {},
   "source": [
    "6. Display how many times the ``City`` column contains NaN."
   ]
  },
  {
   "cell_type": "markdown",
   "id": "a8a0b71e",
   "metadata": {},
   "source": [
    "7. Display data info"
   ]
  },
  {
   "cell_type": "markdown",
   "id": "d5ea49de",
   "metadata": {},
   "source": [
    "8. Display only the ``Borough`` and ``Agency`` columns and only the last 5 lines."
   ]
  },
  {
   "cell_type": "markdown",
   "id": "9c6a8fa3",
   "metadata": {},
   "source": [
    "9. Only display data where the value in the ``Agency`` column is equal to NYPD. Count how many examples there are."
   ]
  },
  {
   "cell_type": "markdown",
   "id": "ba6731c8",
   "metadata": {},
   "source": [
    "10. Display the minimum and maximum value from the ``Longitude`` column."
   ]
  },
  {
   "cell_type": "markdown",
   "id": "08b47a04",
   "metadata": {},
   "source": [
    "11. Add a 'sum' column by summing the ``Longitude`` and ``Latitude`` columns."
   ]
  },
  {
   "cell_type": "markdown",
   "id": "a2aaa56b",
   "metadata": {},
   "source": [
    "12. Count the values for the column ``Descriptor`` where ``Agency`` is equal to NYPD."
   ]
  },
  {
   "cell_type": "markdown",
   "id": "92e1e4a0",
   "metadata": {},
   "source": [
    "### gapminder dataset"
   ]
  },
  {
   "cell_type": "markdown",
   "id": "758e6d42",
   "metadata": {},
   "source": [
    "1. Load the data into the `data2` variable, in such a way that the name of the country is the key."
   ]
  },
  {
   "cell_type": "markdown",
   "id": "f623ef6f",
   "metadata": {},
   "source": [
    "2. Find the most and least populated countries in the world."
   ]
  },
  {
   "cell_type": "markdown",
   "id": "26b613a4",
   "metadata": {},
   "source": [
    "3. In how many countries is `female_BMI` higher than `male_BMI`?"
   ]
  },
  {
   "cell_type": "markdown",
   "id": "d8849c29",
   "metadata": {},
   "source": [
    "4.\n",
    "* Install the `pycountry_convert` library and import it.\n",
    "* Add the `continent` column to the data, which will contain the name of the continent on which the given country is located. Use the `pycountry_convert` library. *Note*: You must first obtain the country code in ISO-2 format, then obtain the continent code, and finally obtain the name of the continent."
   ]
  },
  {
   "cell_type": "markdown",
   "id": "de7759bd",
   "metadata": {},
   "source": [
    "5. Calculate how many people live on each continent. "
   ]
  },
  {
   "cell_type": "markdown",
   "id": "4c03fdeb",
   "metadata": {},
   "source": [
    "6. Draw a bar graph showing how many countries are on each continent."
   ]
  },
  {
   "cell_type": "markdown",
   "id": "3ea96864",
   "metadata": {},
   "source": [
    "7.\n",
    "* The `gdp` column contains information about GDP per capita. Create a new column `gdp_total` that will inform you about the country's GDP.\n",
    "* Calculate the total of world GDP (column `gdp_total`).\n",
    "* Calculate how many countries are responsible for 80% of the world's GDP."
   ]
  },
  {
   "cell_type": "markdown",
   "id": "e8390aa8",
   "metadata": {},
   "source": [
    "8. View all European countries with a life expectancy of 80 years or more."
   ]
  },
  {
   "cell_type": "markdown",
   "id": "83c456e0",
   "metadata": {},
   "source": [
    "9. Find the country that has the closest GDP to Poland. Try to solve this problem in one line."
   ]
  },
  {
   "cell_type": "markdown",
   "id": "674c791a",
   "metadata": {},
   "source": [
    "10.\n",
    "* Check if you have installed the `requests` library, which is used to perform HTTP requests. If not, install it.\n",
    "* Run the `requests.get` function with the following link as argument: `https://aws.random.cat/meow`. Save the result to the response variable.\n",
    "* Execute the `json()` method on the `response` variable which will return you a dictionary with the `file` key in it. Save the `file` value to the `url` variable.\n",
    "* Import `Image` and `display` from `from IPython.core.display` library.\n",
    "* Create an Image object by specifying the `url` variable in the constructor, and save the result to `image`.\n",
    "* Execute the `display` function on the `image` object."
   ]
  }
 ],
 "metadata": {
  "kernelspec": {
   "display_name": "Python 3 (ipykernel)",
   "language": "python",
   "name": "python3"
  },
  "language_info": {
   "codemirror_mode": {
    "name": "ipython",
    "version": 3
   },
   "file_extension": ".py",
   "mimetype": "text/x-python",
   "name": "python",
   "nbconvert_exporter": "python",
   "pygments_lexer": "ipython3",
   "version": "3.9.13"
  }
 },
 "nbformat": 4,
 "nbformat_minor": 5
}
