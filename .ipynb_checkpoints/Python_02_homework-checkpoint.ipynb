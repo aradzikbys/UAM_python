{
 "cells": [
  {
   "cell_type": "markdown",
   "metadata": {},
   "source": [
    "1. Load `pandas` library."
   ]
  },
  {
   "cell_type": "code",
   "execution_count": 2,
   "metadata": {},
   "outputs": [],
   "source": [
    "import pandas as pd"
   ]
  },
  {
   "cell_type": "markdown",
   "metadata": {},
   "source": [
    "2. Load data from *dane_mieszkania.csv* and display 5 first rows."
   ]
  },
  {
   "cell_type": "code",
   "execution_count": 16,
   "metadata": {},
   "outputs": [
    {
     "data": {
      "text/html": [
       "<div>\n",
       "<style scoped>\n",
       "    .dataframe tbody tr th:only-of-type {\n",
       "        vertical-align: middle;\n",
       "    }\n",
       "\n",
       "    .dataframe tbody tr th {\n",
       "        vertical-align: top;\n",
       "    }\n",
       "\n",
       "    .dataframe thead th {\n",
       "        text-align: right;\n",
       "    }\n",
       "</style>\n",
       "<table border=\"1\" class=\"dataframe\">\n",
       "  <thead>\n",
       "    <tr style=\"text-align: right;\">\n",
       "      <th></th>\n",
       "      <th>Id</th>\n",
       "      <th>Expected</th>\n",
       "      <th>Rooms</th>\n",
       "      <th>SqrMeters</th>\n",
       "      <th>Floor</th>\n",
       "      <th>Location</th>\n",
       "    </tr>\n",
       "  </thead>\n",
       "  <tbody>\n",
       "    <tr>\n",
       "      <th>0</th>\n",
       "      <td>1</td>\n",
       "      <td>269000</td>\n",
       "      <td>3</td>\n",
       "      <td>55.00</td>\n",
       "      <td>1</td>\n",
       "      <td>Poznań Zawady</td>\n",
       "    </tr>\n",
       "    <tr>\n",
       "      <th>1</th>\n",
       "      <td>2</td>\n",
       "      <td>320000</td>\n",
       "      <td>3</td>\n",
       "      <td>79.00</td>\n",
       "      <td>10</td>\n",
       "      <td>Poznań Rataje ul. Orła Bialego</td>\n",
       "    </tr>\n",
       "    <tr>\n",
       "      <th>2</th>\n",
       "      <td>3</td>\n",
       "      <td>146000</td>\n",
       "      <td>1</td>\n",
       "      <td>31.21</td>\n",
       "      <td>1</td>\n",
       "      <td>Poznań Nowe Miasto ul. Kawalerka W Nowym Bloku...</td>\n",
       "    </tr>\n",
       "    <tr>\n",
       "      <th>3</th>\n",
       "      <td>4</td>\n",
       "      <td>189000</td>\n",
       "      <td>2</td>\n",
       "      <td>44.00</td>\n",
       "      <td>2</td>\n",
       "      <td>Poznań Grunwald Ogrody Jeżyce Centrum Łazarz u...</td>\n",
       "    </tr>\n",
       "    <tr>\n",
       "      <th>4</th>\n",
       "      <td>5</td>\n",
       "      <td>480240</td>\n",
       "      <td>2</td>\n",
       "      <td>65.25</td>\n",
       "      <td>1</td>\n",
       "      <td>Poznań ul. Droga Dębińska 19</td>\n",
       "    </tr>\n",
       "  </tbody>\n",
       "</table>\n",
       "</div>"
      ],
      "text/plain": [
       "   Id  Expected  Rooms  SqrMeters  Floor  \\\n",
       "0   1    269000      3      55.00      1   \n",
       "1   2    320000      3      79.00     10   \n",
       "2   3    146000      1      31.21      1   \n",
       "3   4    189000      2      44.00      2   \n",
       "4   5    480240      2      65.25      1   \n",
       "\n",
       "                                            Location  \n",
       "0                                      Poznań Zawady  \n",
       "1                     Poznań Rataje ul. Orła Bialego  \n",
       "2  Poznań Nowe Miasto ul. Kawalerka W Nowym Bloku...  \n",
       "3  Poznań Grunwald Ogrody Jeżyce Centrum Łazarz u...  \n",
       "4                       Poznań ul. Droga Dębińska 19  "
      ]
     },
     "execution_count": 16,
     "metadata": {},
     "output_type": "execute_result"
    }
   ],
   "source": [
    "data = pd.read_csv('dane_mieszkania.csv', index_col = 0)\n",
    "data.head()"
   ]
  },
  {
   "cell_type": "markdown",
   "metadata": {},
   "source": [
    "3. Which are the most popular apartments in terms of number of rooms? How many are there?"
   ]
  },
  {
   "cell_type": "code",
   "execution_count": 20,
   "metadata": {},
   "outputs": [
    {
     "name": "stdout",
     "output_type": "stream",
     "text": [
      "No of rooms | count\n",
      "2    2208\n",
      "Name: Rooms, dtype: int64\n"
     ]
    }
   ],
   "source": [
    "print('No of rooms | count')\n",
    "print(data.Rooms.value_counts().head(1))"
   ]
  },
  {
   "cell_type": "markdown",
   "metadata": {},
   "source": [
    "4. Find 10 cheapest apartments."
   ]
  },
  {
   "cell_type": "code",
   "execution_count": 21,
   "metadata": {},
   "outputs": [
    {
     "data": {
      "text/html": [
       "<div>\n",
       "<style scoped>\n",
       "    .dataframe tbody tr th:only-of-type {\n",
       "        vertical-align: middle;\n",
       "    }\n",
       "\n",
       "    .dataframe tbody tr th {\n",
       "        vertical-align: top;\n",
       "    }\n",
       "\n",
       "    .dataframe thead th {\n",
       "        text-align: right;\n",
       "    }\n",
       "</style>\n",
       "<table border=\"1\" class=\"dataframe\">\n",
       "  <thead>\n",
       "    <tr style=\"text-align: right;\">\n",
       "      <th></th>\n",
       "      <th>Id</th>\n",
       "      <th>Expected</th>\n",
       "      <th>Rooms</th>\n",
       "      <th>SqrMeters</th>\n",
       "      <th>Floor</th>\n",
       "      <th>Location</th>\n",
       "    </tr>\n",
       "  </thead>\n",
       "  <tbody>\n",
       "    <tr>\n",
       "      <th>971</th>\n",
       "      <td>972</td>\n",
       "      <td>1</td>\n",
       "      <td>5</td>\n",
       "      <td>99.76</td>\n",
       "      <td>1</td>\n",
       "      <td>Poznań Kameralne Osiedle Domów Energooszczędny...</td>\n",
       "    </tr>\n",
       "    <tr>\n",
       "      <th>4528</th>\n",
       "      <td>4529</td>\n",
       "      <td>4000</td>\n",
       "      <td>3</td>\n",
       "      <td>85.50</td>\n",
       "      <td>2</td>\n",
       "      <td>Poznań ul. Ułańska</td>\n",
       "    </tr>\n",
       "    <tr>\n",
       "      <th>1175</th>\n",
       "      <td>1176</td>\n",
       "      <td>68000</td>\n",
       "      <td>1</td>\n",
       "      <td>33.10</td>\n",
       "      <td>1</td>\n",
       "      <td>Poznań Naramowice ul. Naramowicka</td>\n",
       "    </tr>\n",
       "    <tr>\n",
       "      <th>4889</th>\n",
       "      <td>4890</td>\n",
       "      <td>79000</td>\n",
       "      <td>2</td>\n",
       "      <td>38.10</td>\n",
       "      <td>10</td>\n",
       "      <td>Poznań Nowe Miasto ul. Katowicka</td>\n",
       "    </tr>\n",
       "    <tr>\n",
       "      <th>470</th>\n",
       "      <td>471</td>\n",
       "      <td>85000</td>\n",
       "      <td>1</td>\n",
       "      <td>37.00</td>\n",
       "      <td>3</td>\n",
       "      <td>Poznań Nowe Miasto ul. Folwarczna</td>\n",
       "    </tr>\n",
       "    <tr>\n",
       "      <th>898</th>\n",
       "      <td>899</td>\n",
       "      <td>90000</td>\n",
       "      <td>1</td>\n",
       "      <td>24.26</td>\n",
       "      <td>4</td>\n",
       "      <td>Poznań Jeżyce ul. Szamarzewskiego</td>\n",
       "    </tr>\n",
       "    <tr>\n",
       "      <th>2055</th>\n",
       "      <td>2056</td>\n",
       "      <td>94000</td>\n",
       "      <td>2</td>\n",
       "      <td>54.00</td>\n",
       "      <td>2</td>\n",
       "      <td>Poznań Okolica Rybno Rybno ul. Kłecko</td>\n",
       "    </tr>\n",
       "    <tr>\n",
       "      <th>4723</th>\n",
       "      <td>4724</td>\n",
       "      <td>98000</td>\n",
       "      <td>2</td>\n",
       "      <td>50.00</td>\n",
       "      <td>1</td>\n",
       "      <td>Poznań Wilda ul. Robocza/Sikorskiego</td>\n",
       "    </tr>\n",
       "    <tr>\n",
       "      <th>3550</th>\n",
       "      <td>3551</td>\n",
       "      <td>98000</td>\n",
       "      <td>2</td>\n",
       "      <td>53.00</td>\n",
       "      <td>2</td>\n",
       "      <td>Poznań Koziegłowy ul. Os. Leśne</td>\n",
       "    </tr>\n",
       "    <tr>\n",
       "      <th>911</th>\n",
       "      <td>912</td>\n",
       "      <td>99000</td>\n",
       "      <td>2</td>\n",
       "      <td>40.50</td>\n",
       "      <td>3</td>\n",
       "      <td>Poznań Nowe Miasto ul. Katowicka</td>\n",
       "    </tr>\n",
       "  </tbody>\n",
       "</table>\n",
       "</div>"
      ],
      "text/plain": [
       "        Id  Expected  Rooms  SqrMeters  Floor  \\\n",
       "971    972         1      5      99.76      1   \n",
       "4528  4529      4000      3      85.50      2   \n",
       "1175  1176     68000      1      33.10      1   \n",
       "4889  4890     79000      2      38.10     10   \n",
       "470    471     85000      1      37.00      3   \n",
       "898    899     90000      1      24.26      4   \n",
       "2055  2056     94000      2      54.00      2   \n",
       "4723  4724     98000      2      50.00      1   \n",
       "3550  3551     98000      2      53.00      2   \n",
       "911    912     99000      2      40.50      3   \n",
       "\n",
       "                                               Location  \n",
       "971   Poznań Kameralne Osiedle Domów Energooszczędny...  \n",
       "4528                                 Poznań ul. Ułańska  \n",
       "1175                  Poznań Naramowice ul. Naramowicka  \n",
       "4889                   Poznań Nowe Miasto ul. Katowicka  \n",
       "470                   Poznań Nowe Miasto ul. Folwarczna  \n",
       "898                   Poznań Jeżyce ul. Szamarzewskiego  \n",
       "2055              Poznań Okolica Rybno Rybno ul. Kłecko  \n",
       "4723               Poznań Wilda ul. Robocza/Sikorskiego  \n",
       "3550                    Poznań Koziegłowy ul. Os. Leśne  \n",
       "911                    Poznań Nowe Miasto ul. Katowicka  "
      ]
     },
     "execution_count": 21,
     "metadata": {},
     "output_type": "execute_result"
    }
   ],
   "source": [
    "data.sort_values('Expected').head(10)"
   ]
  },
  {
   "cell_type": "markdown",
   "metadata": {},
   "source": [
    "5. Write function ``find_borough(desc)``, which takes 1 *string* argument and returns one of the districts definied in the list ``dzielnice``. Function should return 1st name of the district found in ``desc``. If there is no match, function should return string ``Other``."
   ]
  },
  {
   "cell_type": "code",
   "execution_count": 22,
   "metadata": {},
   "outputs": [],
   "source": [
    "def find_borough(desc):\n",
    "    dzielnice = ['Stare Miasto',\n",
    "                 'Wilda',\n",
    "                 'Jeżyce',\n",
    "                 'Rataje',\n",
    "                 'Piątkowo',\n",
    "                 'Winogrady',\n",
    "                 'Miłostowo',\n",
    "                 'Dębiec']\n",
    "    for item in dzielnice:\n",
    "        if item in desc:\n",
    "            return(item)\n",
    "            break\n",
    "    return('Other')"
   ]
  },
  {
   "cell_type": "markdown",
   "metadata": {},
   "source": [
    "6. Add column ``Borough`` to the dataset, which will contain information about district (based on information in the ``Location`` column). Use function ``find_borough``."
   ]
  },
  {
   "cell_type": "code",
   "execution_count": 24,
   "metadata": {},
   "outputs": [
    {
     "data": {
      "text/plain": [
       "0          Other\n",
       "1         Rataje\n",
       "2          Other\n",
       "3         Jeżyce\n",
       "4          Other\n",
       "          ...   \n",
       "4995       Other\n",
       "4996    Piątkowo\n",
       "4997       Other\n",
       "4998       Other\n",
       "4999       Wilda\n",
       "Name: Location, Length: 5000, dtype: object"
      ]
     },
     "execution_count": 24,
     "metadata": {},
     "output_type": "execute_result"
    }
   ],
   "source": [
    "# Check if function works:\n",
    "data2 = data.Location.map(find_borough)\n",
    "data2"
   ]
  },
  {
   "cell_type": "code",
   "execution_count": 26,
   "metadata": {},
   "outputs": [
    {
     "data": {
      "text/html": [
       "<div>\n",
       "<style scoped>\n",
       "    .dataframe tbody tr th:only-of-type {\n",
       "        vertical-align: middle;\n",
       "    }\n",
       "\n",
       "    .dataframe tbody tr th {\n",
       "        vertical-align: top;\n",
       "    }\n",
       "\n",
       "    .dataframe thead th {\n",
       "        text-align: right;\n",
       "    }\n",
       "</style>\n",
       "<table border=\"1\" class=\"dataframe\">\n",
       "  <thead>\n",
       "    <tr style=\"text-align: right;\">\n",
       "      <th></th>\n",
       "      <th>Id</th>\n",
       "      <th>Expected</th>\n",
       "      <th>Rooms</th>\n",
       "      <th>SqrMeters</th>\n",
       "      <th>Floor</th>\n",
       "      <th>Location</th>\n",
       "      <th>Borough</th>\n",
       "    </tr>\n",
       "  </thead>\n",
       "  <tbody>\n",
       "    <tr>\n",
       "      <th>4273</th>\n",
       "      <td>4274</td>\n",
       "      <td>379000</td>\n",
       "      <td>2</td>\n",
       "      <td>66.86</td>\n",
       "      <td>3</td>\n",
       "      <td>Poznań Nowe Miasto ul. Ul. Milczańska 1</td>\n",
       "      <td>Other</td>\n",
       "    </tr>\n",
       "    <tr>\n",
       "      <th>236</th>\n",
       "      <td>237</td>\n",
       "      <td>315000</td>\n",
       "      <td>3</td>\n",
       "      <td>79.00</td>\n",
       "      <td>8</td>\n",
       "      <td>Poznań Rataje ul. Os. Orła Białego</td>\n",
       "      <td>Rataje</td>\n",
       "    </tr>\n",
       "    <tr>\n",
       "      <th>3100</th>\n",
       "      <td>3101</td>\n",
       "      <td>180000</td>\n",
       "      <td>1</td>\n",
       "      <td>35.00</td>\n",
       "      <td>2</td>\n",
       "      <td>Poznań Poznań-Jeżyce ul. Piotra Wawrzyniaka</td>\n",
       "      <td>Jeżyce</td>\n",
       "    </tr>\n",
       "    <tr>\n",
       "      <th>658</th>\n",
       "      <td>659</td>\n",
       "      <td>276000</td>\n",
       "      <td>2</td>\n",
       "      <td>41.11</td>\n",
       "      <td>4</td>\n",
       "      <td>Poznań Wilda Dębiec Centrum ul. Przemysłowa</td>\n",
       "      <td>Wilda</td>\n",
       "    </tr>\n",
       "    <tr>\n",
       "      <th>248</th>\n",
       "      <td>249</td>\n",
       "      <td>236600</td>\n",
       "      <td>1</td>\n",
       "      <td>36.00</td>\n",
       "      <td>2</td>\n",
       "      <td>Poznań Jeżyce</td>\n",
       "      <td>Jeżyce</td>\n",
       "    </tr>\n",
       "    <tr>\n",
       "      <th>3065</th>\n",
       "      <td>3066</td>\n",
       "      <td>300000</td>\n",
       "      <td>4</td>\n",
       "      <td>84.00</td>\n",
       "      <td>1</td>\n",
       "      <td>Poznań Nowe Miasto ul. Gabszewicza</td>\n",
       "      <td>Other</td>\n",
       "    </tr>\n",
       "    <tr>\n",
       "      <th>3667</th>\n",
       "      <td>3668</td>\n",
       "      <td>265000</td>\n",
       "      <td>3</td>\n",
       "      <td>52.30</td>\n",
       "      <td>3</td>\n",
       "      <td>Poznań Rataje ul. Lecha</td>\n",
       "      <td>Rataje</td>\n",
       "    </tr>\n",
       "  </tbody>\n",
       "</table>\n",
       "</div>"
      ],
      "text/plain": [
       "        Id  Expected  Rooms  SqrMeters  Floor  \\\n",
       "4273  4274    379000      2      66.86      3   \n",
       "236    237    315000      3      79.00      8   \n",
       "3100  3101    180000      1      35.00      2   \n",
       "658    659    276000      2      41.11      4   \n",
       "248    249    236600      1      36.00      2   \n",
       "3065  3066    300000      4      84.00      1   \n",
       "3667  3668    265000      3      52.30      3   \n",
       "\n",
       "                                         Location Borough  \n",
       "4273      Poznań Nowe Miasto ul. Ul. Milczańska 1   Other  \n",
       "236            Poznań Rataje ul. Os. Orła Białego  Rataje  \n",
       "3100  Poznań Poznań-Jeżyce ul. Piotra Wawrzyniaka  Jeżyce  \n",
       "658   Poznań Wilda Dębiec Centrum ul. Przemysłowa   Wilda  \n",
       "248                                 Poznań Jeżyce  Jeżyce  \n",
       "3065           Poznań Nowe Miasto ul. Gabszewicza   Other  \n",
       "3667                      Poznań Rataje ul. Lecha  Rataje  "
      ]
     },
     "execution_count": 26,
     "metadata": {},
     "output_type": "execute_result"
    }
   ],
   "source": [
    "# Add data2 as new column to existing dataset:\n",
    "data['Borough'] = data2\n",
    "\n",
    "# Display sample of amended dataset:\n",
    "data.sample(7)"
   ]
  },
  {
   "cell_type": "markdown",
   "metadata": {},
   "source": [
    "7. Calculate the average price per square meter for the entire dataset and by district."
   ]
  },
  {
   "cell_type": "code",
   "execution_count": 29,
   "metadata": {},
   "outputs": [
    {
     "data": {
      "text/plain": [
       "6060.09"
      ]
     },
     "execution_count": 29,
     "metadata": {},
     "output_type": "execute_result"
    }
   ],
   "source": [
    "# For whole dataset:\n",
    "round(data.Expected.sum() / data.SqrMeters.sum(),2)"
   ]
  },
  {
   "cell_type": "code",
   "execution_count": 40,
   "metadata": {},
   "outputs": [
    {
     "data": {
      "text/plain": [
       "Borough\n",
       "Winogrady       9622.27\n",
       "Stare Miasto    7440.22\n",
       "Piątkowo        5689.68\n",
       "Other           5598.26\n",
       "Rataje          5380.32\n",
       "Jeżyce          5360.16\n",
       "Wilda           5261.15\n",
       "Dębiec          4746.42\n",
       "dtype: float64"
      ]
     },
     "execution_count": 40,
     "metadata": {},
     "output_type": "execute_result"
    }
   ],
   "source": [
    "# Divided by district:\n",
    "price = data.groupby('Borough')['Expected'].sum()\n",
    "meters = data.groupby('Borough')['SqrMeters'].sum()\n",
    "\n",
    "# Result, sorted from most expensive district:\n",
    "round(price / meters,2).sort_values(ascending = False)"
   ]
  },
  {
   "cell_type": "markdown",
   "metadata": {},
   "source": [
    "8. Find mean price n-room apartment."
   ]
  },
  {
   "cell_type": "code",
   "execution_count": 42,
   "metadata": {},
   "outputs": [
    {
     "data": {
      "text/plain": [
       "Rooms\n",
       "1      251577.85\n",
       "2      303861.86\n",
       "3      383533.64\n",
       "4      456560.24\n",
       "5      613355.19\n",
       "6     1069136.69\n",
       "7      520000.00\n",
       "10     320000.00\n",
       "Name: Expected, dtype: float64"
      ]
     },
     "execution_count": 42,
     "metadata": {},
     "output_type": "execute_result"
    }
   ],
   "source": [
    "round(data.groupby('Rooms')['Expected'].mean(),2)"
   ]
  },
  {
   "cell_type": "markdown",
   "metadata": {},
   "source": [
    "9. Find districts that contain listings for apartments on the 13th floor."
   ]
  },
  {
   "cell_type": "code",
   "execution_count": 46,
   "metadata": {},
   "outputs": [
    {
     "data": {
      "text/plain": [
       "2195       Winogrady\n",
       "2773    Stare Miasto\n",
       "Name: Borough, dtype: object"
      ]
     },
     "execution_count": 46,
     "metadata": {},
     "output_type": "execute_result"
    }
   ],
   "source": [
    "query = data['Floor'] == 13\n",
    "\n",
    "data[query].Borough"
   ]
  },
  {
   "cell_type": "markdown",
   "metadata": {},
   "source": [
    "10. Find all apartments that are located in Winogrady, have 3 rooms and are located on the 1st floor."
   ]
  },
  {
   "cell_type": "code",
   "execution_count": 48,
   "metadata": {},
   "outputs": [
    {
     "data": {
      "text/html": [
       "<div>\n",
       "<style scoped>\n",
       "    .dataframe tbody tr th:only-of-type {\n",
       "        vertical-align: middle;\n",
       "    }\n",
       "\n",
       "    .dataframe tbody tr th {\n",
       "        vertical-align: top;\n",
       "    }\n",
       "\n",
       "    .dataframe thead th {\n",
       "        text-align: right;\n",
       "    }\n",
       "</style>\n",
       "<table border=\"1\" class=\"dataframe\">\n",
       "  <thead>\n",
       "    <tr style=\"text-align: right;\">\n",
       "      <th></th>\n",
       "      <th>Id</th>\n",
       "      <th>Expected</th>\n",
       "      <th>Rooms</th>\n",
       "      <th>SqrMeters</th>\n",
       "      <th>Floor</th>\n",
       "      <th>Location</th>\n",
       "      <th>Borough</th>\n",
       "    </tr>\n",
       "  </thead>\n",
       "  <tbody>\n",
       "    <tr>\n",
       "      <th>26</th>\n",
       "      <td>27</td>\n",
       "      <td>295068</td>\n",
       "      <td>3</td>\n",
       "      <td>49.46</td>\n",
       "      <td>1</td>\n",
       "      <td>Poznań Winogrady ul. Hawelańska</td>\n",
       "      <td>Winogrady</td>\n",
       "    </tr>\n",
       "    <tr>\n",
       "      <th>91</th>\n",
       "      <td>92</td>\n",
       "      <td>549000</td>\n",
       "      <td>3</td>\n",
       "      <td>81.00</td>\n",
       "      <td>1</td>\n",
       "      <td>Poznań Winogrady ul. Żniwna</td>\n",
       "      <td>Winogrady</td>\n",
       "    </tr>\n",
       "    <tr>\n",
       "      <th>105</th>\n",
       "      <td>106</td>\n",
       "      <td>275000</td>\n",
       "      <td>3</td>\n",
       "      <td>53.00</td>\n",
       "      <td>1</td>\n",
       "      <td>Poznań Winogrady ul. Oś. Zwycięstwa 26</td>\n",
       "      <td>Winogrady</td>\n",
       "    </tr>\n",
       "    <tr>\n",
       "      <th>137</th>\n",
       "      <td>138</td>\n",
       "      <td>340000</td>\n",
       "      <td>3</td>\n",
       "      <td>65.00</td>\n",
       "      <td>1</td>\n",
       "      <td>Poznań Winogrady ul. Os. Kosmonautów</td>\n",
       "      <td>Winogrady</td>\n",
       "    </tr>\n",
       "    <tr>\n",
       "      <th>175</th>\n",
       "      <td>176</td>\n",
       "      <td>326073</td>\n",
       "      <td>3</td>\n",
       "      <td>53.02</td>\n",
       "      <td>1</td>\n",
       "      <td>Poznań Winogrady ul. Hawelańska</td>\n",
       "      <td>Winogrady</td>\n",
       "    </tr>\n",
       "    <tr>\n",
       "      <th>...</th>\n",
       "      <td>...</td>\n",
       "      <td>...</td>\n",
       "      <td>...</td>\n",
       "      <td>...</td>\n",
       "      <td>...</td>\n",
       "      <td>...</td>\n",
       "      <td>...</td>\n",
       "    </tr>\n",
       "    <tr>\n",
       "      <th>4941</th>\n",
       "      <td>4942</td>\n",
       "      <td>364695</td>\n",
       "      <td>3</td>\n",
       "      <td>59.30</td>\n",
       "      <td>1</td>\n",
       "      <td>Poznań Winogrady ul. Hawelańska</td>\n",
       "      <td>Winogrady</td>\n",
       "    </tr>\n",
       "    <tr>\n",
       "      <th>4953</th>\n",
       "      <td>4954</td>\n",
       "      <td>299000</td>\n",
       "      <td>3</td>\n",
       "      <td>65.00</td>\n",
       "      <td>1</td>\n",
       "      <td>Poznań Winogrady ul. Os. Kosmonautów</td>\n",
       "      <td>Winogrady</td>\n",
       "    </tr>\n",
       "    <tr>\n",
       "      <th>4963</th>\n",
       "      <td>4964</td>\n",
       "      <td>355383</td>\n",
       "      <td>3</td>\n",
       "      <td>56.41</td>\n",
       "      <td>1</td>\n",
       "      <td>Poznań Winogrady ul. Hawelańska</td>\n",
       "      <td>Winogrady</td>\n",
       "    </tr>\n",
       "    <tr>\n",
       "      <th>4969</th>\n",
       "      <td>4970</td>\n",
       "      <td>296560</td>\n",
       "      <td>3</td>\n",
       "      <td>49.71</td>\n",
       "      <td>1</td>\n",
       "      <td>Poznań Winogrady ul. Hawelańska</td>\n",
       "      <td>Winogrady</td>\n",
       "    </tr>\n",
       "    <tr>\n",
       "      <th>4985</th>\n",
       "      <td>4986</td>\n",
       "      <td>286831</td>\n",
       "      <td>3</td>\n",
       "      <td>47.41</td>\n",
       "      <td>1</td>\n",
       "      <td>Poznań Winogrady ul. Hawelańska</td>\n",
       "      <td>Winogrady</td>\n",
       "    </tr>\n",
       "  </tbody>\n",
       "</table>\n",
       "<p>193 rows × 7 columns</p>\n",
       "</div>"
      ],
      "text/plain": [
       "        Id  Expected  Rooms  SqrMeters  Floor  \\\n",
       "26      27    295068      3      49.46      1   \n",
       "91      92    549000      3      81.00      1   \n",
       "105    106    275000      3      53.00      1   \n",
       "137    138    340000      3      65.00      1   \n",
       "175    176    326073      3      53.02      1   \n",
       "...    ...       ...    ...        ...    ...   \n",
       "4941  4942    364695      3      59.30      1   \n",
       "4953  4954    299000      3      65.00      1   \n",
       "4963  4964    355383      3      56.41      1   \n",
       "4969  4970    296560      3      49.71      1   \n",
       "4985  4986    286831      3      47.41      1   \n",
       "\n",
       "                                    Location    Borough  \n",
       "26           Poznań Winogrady ul. Hawelańska  Winogrady  \n",
       "91               Poznań Winogrady ul. Żniwna  Winogrady  \n",
       "105   Poznań Winogrady ul. Oś. Zwycięstwa 26  Winogrady  \n",
       "137     Poznań Winogrady ul. Os. Kosmonautów  Winogrady  \n",
       "175          Poznań Winogrady ul. Hawelańska  Winogrady  \n",
       "...                                      ...        ...  \n",
       "4941         Poznań Winogrady ul. Hawelańska  Winogrady  \n",
       "4953    Poznań Winogrady ul. Os. Kosmonautów  Winogrady  \n",
       "4963         Poznań Winogrady ul. Hawelańska  Winogrady  \n",
       "4969         Poznań Winogrady ul. Hawelańska  Winogrady  \n",
       "4985         Poznań Winogrady ul. Hawelańska  Winogrady  \n",
       "\n",
       "[193 rows x 7 columns]"
      ]
     },
     "execution_count": 48,
     "metadata": {},
     "output_type": "execute_result"
    }
   ],
   "source": [
    "loc = data['Borough'] == 'Winogrady'\n",
    "room = data['Rooms'] == 3\n",
    "floor = data['Floor'] = 1\n",
    "\n",
    "query2 = loc & room & floor\n",
    "data[query2]"
   ]
  }
 ],
 "metadata": {
  "kernelspec": {
   "display_name": "Python 3 (ipykernel)",
   "language": "python",
   "name": "python3"
  },
  "language_info": {
   "codemirror_mode": {
    "name": "ipython",
    "version": 3
   },
   "file_extension": ".py",
   "mimetype": "text/x-python",
   "name": "python",
   "nbconvert_exporter": "python",
   "pygments_lexer": "ipython3",
   "version": "3.9.13"
  }
 },
 "nbformat": 4,
 "nbformat_minor": 2
}
